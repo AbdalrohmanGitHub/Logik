{
 "cells": [
  {
   "cell_type": "markdown",
   "metadata": {},
   "source": [
    "# Case Study: Computation of Probabilities in Poker "
   ]
  },
  {
   "cell_type": "markdown",
   "metadata": {},
   "source": [
    "This notebook shows how to compute probabilities in <A href=\"https://en.wikipedia.org/wiki/Texas_hold_%27em\">Texas Hold'em Poker</A>.  Texas Hold'em is played with a deck of 52 cards.  The cards have 13 different *values* and four different *suits*.  The values are:"
   ]
  },
  {
   "cell_type": "code",
   "execution_count": 1,
   "metadata": {
    "collapsed": true
   },
   "outputs": [],
   "source": [
    " Values = { \"2\", \"3\", \"4\", \"5\", \"6\", \"7\", \"8\", \"9\", \"T\", \"J\", \"Q\", \"K\", \"A\" }"
   ]
  },
  {
   "cell_type": "markdown",
   "metadata": {},
   "source": [
    "The four *suits* are *clubs*, *hearts*, *diamonds*, and *spades*.  We represent these suits by their first letter:"
   ]
  },
  {
   "cell_type": "code",
   "execution_count": 2,
   "metadata": {
    "collapsed": true
   },
   "outputs": [],
   "source": [
    "Suits = { \"c\", \"h\", \"d\", \"s\" }"
   ]
  },
  {
   "cell_type": "markdown",
   "metadata": {},
   "source": [
    "Now the *deck* of cards is convieniently represented by the Cartesian product of the two sets <tt>Values</tt> and <tt>Suits</tt>."
   ]
  },
  {
   "cell_type": "code",
   "execution_count": 5,
   "metadata": {},
   "outputs": [
    {
     "name": "stdout",
     "output_type": "stream",
     "text": [
      "{('3', 's'), ('A', 'd'), ('4', 'h'), ('5', 'd'), ('6', 'c'), ('7', 's'), ('J', 'd'), ('9', 'd'), ('Q', 'd'), ('4', 's'), ('7', 'h'), ('K', 'd'), ('J', 'c'), ('T', 'h'), ('J', 'h'), ('4', 'd'), ('5', 'c'), ('Q', 'h'), ('6', 'd'), ('J', 's'), ('3', 'd'), ('4', 'c'), ('T', 'd'), ('K', 'h'), ('2', 'd'), ('8', 'd'), ('7', 'c'), ('6', 's'), ('3', 'c'), ('3', 'h'), ('6', 'h'), ('9', 'c'), ('T', 'c'), ('Q', 's'), ('A', 's'), ('5', 's'), ('K', 's'), ('2', 'c'), ('8', 'c'), ('Q', 'c'), ('9', 'h'), ('A', 'h'), ('2', 'h'), ('8', 'h'), ('2', 's'), ('8', 's'), ('5', 'h'), ('7', 'd'), ('K', 'c'), ('A', 'c'), ('T', 's'), ('9', 's')}\n"
     ]
    }
   ],
   "source": [
    "Deck = { (v, s) for v in Values for s in Suits }\n",
    "print(Deck)"
   ]
  },
  {
   "cell_type": "markdown",
   "metadata": {},
   "source": [
    "Let's assume you have been dealt the three of clubs and the three of spades.  In Texas Hold'em, the hand dealt to a player at the beginning is called the *hole*, so we have:"
   ]
  },
  {
   "cell_type": "code",
   "execution_count": 6,
   "metadata": {
    "collapsed": true
   },
   "outputs": [],
   "source": [
    "Hole = { (\"3\", \"c\"), (\"3\", \"s\") }"
   ]
  },
  {
   "cell_type": "markdown",
   "metadata": {},
   "source": [
    "The remaining cards are all other cards, lets call them <tt>rest</tt>:"
   ]
  },
  {
   "cell_type": "code",
   "execution_count": 7,
   "metadata": {
    "collapsed": true
   },
   "outputs": [],
   "source": [
    "Rest = Deck - Hole"
   ]
  },
  {
   "cell_type": "markdown",
   "metadata": {},
   "source": [
    "We are interested in the probability that on the *flop* you will improve your hand to *trips*.  The *flop* are three cards that are put openly on the table once the initial *bidding* phase has ended.  So the question is how likely it is that one of these three cards will have the value \"3\".  First, let us compute the set of all possible *flops*."
   ]
  },
  {
   "cell_type": "code",
   "execution_count": 8,
   "metadata": {
    "collapsed": true
   },
   "outputs": [],
   "source": [
    "Flops = { (c1, c2, c3) for c1 in Rest for c2 in Rest for c3 in Rest if len({c1, c2, c3}) == 3 }"
   ]
  },
  {
   "cell_type": "code",
   "execution_count": 9,
   "metadata": {},
   "outputs": [
    {
     "data": {
      "text/plain": [
       "117600"
      ]
     },
     "execution_count": 9,
     "metadata": {},
     "output_type": "execute_result"
    }
   ],
   "source": [
    "len(Flops)"
   ]
  },
  {
   "cell_type": "markdown",
   "metadata": {},
   "source": [
    "The condition <tt>len({c1, c2, c3}) == 3</tt> ensures that c1, c2 and c3 are all different from each other."
   ]
  },
  {
   "cell_type": "markdown",
   "metadata": {},
   "source": [
    "Next, let us compute those flops that actually have a card with a value of \"3\".  Since there are only two cards left that have a value of \"3\", this subset of the set <tt>flops</tt> is easy to compute:"
   ]
  },
  {
   "cell_type": "code",
   "execution_count": 10,
   "metadata": {
    "collapsed": true
   },
   "outputs": [],
   "source": [
    "Trips = { f for f in Flops if (\"3\", \"d\") in f or (\"3\", \"h\") in f }"
   ]
  },
  {
   "cell_type": "code",
   "execution_count": 11,
   "metadata": {},
   "outputs": [
    {
     "data": {
      "text/plain": [
       "13824"
      ]
     },
     "execution_count": 11,
     "metadata": {},
     "output_type": "execute_result"
    }
   ],
   "source": [
    "len(Trips)"
   ]
  },
  {
   "cell_type": "markdown",
   "metadata": {},
   "source": [
    "Now the probability that you will improve your hand from pairs to trips on the flop is just the ratio of the number of those cases where you do make trips to the number of all possible cases:"
   ]
  },
  {
   "cell_type": "code",
   "execution_count": 12,
   "metadata": {},
   "outputs": [
    {
     "data": {
      "text/plain": [
       "0.11755102040816326"
      ]
     },
     "execution_count": 12,
     "metadata": {},
     "output_type": "execute_result"
    }
   ],
   "source": [
    "len(Trips)/len(Flops)"
   ]
  },
  {
   "cell_type": "markdown",
   "metadata": {},
   "source": [
    "Therefore, we can conclude that the probability to improve a pocket pair to trips on the flop is roughly 12%."
   ]
  }
 ],
 "metadata": {
  "kernelspec": {
   "display_name": "Python 3",
   "language": "python",
   "name": "python3"
  },
  "language_info": {
   "codemirror_mode": {
    "name": "ipython",
    "version": 3
   },
   "file_extension": ".py",
   "mimetype": "text/x-python",
   "name": "python",
   "nbconvert_exporter": "python",
   "pygments_lexer": "ipython3",
   "version": "3.6.3"
  }
 },
 "nbformat": 4,
 "nbformat_minor": 2
}
