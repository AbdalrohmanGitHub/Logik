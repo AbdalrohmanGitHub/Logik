{
 "cells": [
  {
   "cell_type": "markdown",
   "metadata": {},
   "source": [
    "The relational product of two relations $R_1$ and $R_2$ is defined as follows:\n",
    "$$ R_1 \\circ R_2 := \n",
    "\\Bigl\\{ \\langle x, z \\rangle \n",
    "\\mid \\exists y: \\bigl(\\langle x, y\\rangle \\in R_1 \\wedge \\langle y, z \\rangle \\in R_2\\bigr)\n",
    "\\Bigr\\}\n",
    "$$"
   ]
  },
  {
   "cell_type": "code",
   "execution_count": 7,
   "metadata": {
    "collapsed": true
   },
   "outputs": [],
   "source": [
    "def product(R1, R2):\n",
    "    \"Compute the relational product of R1 and R2.\"\n",
    "    return { (x, z) for (x, y1) in R1 for (y2, z) in R2 if y1 == y2 }"
   ]
  },
  {
   "cell_type": "code",
   "execution_count": 8,
   "metadata": {},
   "outputs": [
    {
     "data": {
      "text/plain": [
       "{(1, 3), (1, 5)}"
      ]
     },
     "execution_count": 8,
     "metadata": {},
     "output_type": "execute_result"
    }
   ],
   "source": [
    "R1 = { (1, 2), (1, 4) }\n",
    "R2 = { (2, 3), (2, 5) }\n",
    "product(R1, R2)"
   ]
  },
  {
   "cell_type": "markdown",
   "metadata": {},
   "source": [
    "The transitive closure of a binary relation $R \\subseteq M \\times M$ can be computed by the following fixpoint iteration:\n",
    "$$ R_{n+1} = R \\cup R \\circ R_n $$ "
   ]
  },
  {
   "cell_type": "code",
   "execution_count": 10,
   "metadata": {
    "collapsed": true
   },
   "outputs": [],
   "source": [
    "def transClosure(R):\n",
    "    \"Compute the transitive closure of the binary relation R.\"\n",
    "    T = R\n",
    "    while True:\n",
    "        oldT = T\n",
    "        T    = product(R,T).union(R)\n",
    "        if T == oldT:\n",
    "            return T"
   ]
  },
  {
   "cell_type": "code",
   "execution_count": 11,
   "metadata": {},
   "outputs": [
    {
     "data": {
      "text/plain": [
       "{(1, 2), (1, 3), (1, 4), (1, 5), (2, 3), (2, 4), (2, 5), (4, 5)}"
      ]
     },
     "execution_count": 11,
     "metadata": {},
     "output_type": "execute_result"
    }
   ],
   "source": [
    "transClosure({ (1,2), (2,3), (1,3), (2,4), (4,5) })"
   ]
  }
 ],
 "metadata": {
  "kernelspec": {
   "display_name": "Python 3",
   "language": "python",
   "name": "python3"
  },
  "language_info": {
   "codemirror_mode": {
    "name": "ipython",
    "version": 3
   },
   "file_extension": ".py",
   "mimetype": "text/x-python",
   "name": "python",
   "nbconvert_exporter": "python",
   "pygments_lexer": "ipython3",
   "version": "3.6.3"
  }
 },
 "nbformat": 4,
 "nbformat_minor": 2
}
