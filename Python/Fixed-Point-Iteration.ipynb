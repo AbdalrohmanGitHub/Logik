{
 "cells": [
  {
   "cell_type": "markdown",
   "metadata": {},
   "source": [
    "# Solving a Fixed-Point Equation"
   ]
  },
  {
   "cell_type": "markdown",
   "metadata": {},
   "source": [
    "Assume we want to find a solution of the equation\n",
    "$$ x = \\cos(x).  $$\n",
    "As a first step, we would try to visualize the situation and plot both the function $y = \\cos(x)$ and the line $y = x$.  This is done in the following cell:"
   ]
  },
  {
   "cell_type": "code",
   "execution_count": 1,
   "metadata": {},
   "outputs": [
    {
     "data": {
      "text/plain": [
       "<Figure size 1500x1000 with 1 Axes>"
      ]
     },
     "metadata": {},
     "output_type": "display_data"
    }
   ],
   "source": [
    "import matplotlib.pyplot as plt\n",
    "import math\n",
    "\n",
    "plt.rcParams['figure.figsize'] = [15, 10]\n",
    "n = 1000\n",
    "x = [0.5 * math.pi * i / 1000 for i in range(1001)]\n",
    "y = [math.cos(0.5 * math.pi * i / 1000) for i in range(1001)]\n",
    "plt.margins(0.00)\n",
    "plt.plot(x[:640], x[:640], label=\"y=x\")\n",
    "plt.plot(x, y, label=\"y = cos(x)\")\n",
    "plt.xlabel(\"x\")\n",
    "plt.ylabel(\"y\")\n",
    "plt.legend()\n",
    "plt.title(\"Solve x = cos(x)\")\n",
    "plt.show()"
   ]
  },
  {
   "cell_type": "markdown",
   "metadata": {},
   "source": [
    "The figure above clearly shows that the line $y = x$ intersects the function $y = \\cos(x)$ at some point $\\bar{x}$ that lies somewhere in the intervall $[0.6, 0.8]$.  In order to compute $\\bar{x}$, we try the following fixed-point iteration.\n",
    "<ol>\n",
    "    <li> We initialize $x_0$ with the value $1.0$. </li>\n",
    "    <li> We define $x_{n+1} := \\cos(x_n)$.\n",
    "</ol>"
   ]
  },
  {
   "cell_type": "markdown",
   "metadata": {},
   "source": [
    "Our hope is that the sequence $(x_n)_{n\\in\\mathbb{N}}$ converges to the solution $\\bar{x}$, i.e. we hope that\n",
    "$$ \\lim\\limits_{n\\rightarrow\\infty} x_n = \\bar{x}. $$\n",
    "Why should this be true?  Well let us assume that the limit exists and define\n",
    "$$ \\bar{x} := \\lim\\limits_{n\\rightarrow\\infty} x_n. $$\n",
    "Then we have the following:\n",
    "$$\n",
    "  \\begin{array}{lcl}\n",
    "  \\cos\\bigl(\\bar{x}\\bigr) & = & \\cos\\Bigl(\\lim\\limits_{n\\rightarrow\\infty} x_n\\Bigr) \\\\\n",
    "                          & = & \\lim\\limits_{n\\rightarrow\\infty} \\cos(x_n)           \\\\\n",
    "                          & = & \\lim\\limits_{n\\rightarrow\\infty} x_{n+1}       \\\\\n",
    "                          & = & \\lim\\limits_{n\\rightarrow\\infty} x_{n}         \\\\\n",
    "                          & = & \\bar{x}\n",
    "  \\end{array}\n",
    "$$"
   ]
  },
  {
   "cell_type": "markdown",
   "metadata": {},
   "source": [
    "Therefore, if the sequence converges to some limit, the limit is indeed a solution of the equation $x = \\cos(x)$. There question whether it does converge is decided experimentally as follows:"
   ]
  },
  {
   "cell_type": "code",
   "execution_count": 2,
   "metadata": {},
   "outputs": [
    {
     "name": "stdout",
     "output_type": "stream",
     "text": [
      " 1: 0.5403023058681398\n",
      " 2: 0.8575532158463934\n",
      " 3: 0.6542897904977791\n",
      " 4: 0.7934803587425656\n",
      " 5: 0.7013687736227565\n",
      " 6: 0.7639596829006542\n",
      " 7: 0.7221024250267079\n",
      " 8: 0.7504177617637604\n",
      " 9: 0.7314040424225099\n",
      "10: 0.7442373549005569\n",
      "11: 0.7356047404363473\n",
      "12: 0.7414250866101093\n",
      "13: 0.7375068905132427\n",
      "14: 0.7401473355678758\n",
      "15: 0.7383692041223231\n",
      "16: 0.7395672022122561\n",
      "17: 0.7387603198742112\n",
      "18: 0.739303892396906\n",
      "19: 0.7389377567153443\n",
      "20: 0.7391843997714937\n",
      "21: 0.7390182624274122\n",
      "22: 0.7391301765296711\n",
      "23: 0.7390547907469174\n",
      "24: 0.7391055719265363\n",
      "25: 0.7390713652989449\n",
      "26: 0.7390944073790913\n",
      "27: 0.739078885994992\n",
      "28: 0.7390893414033928\n",
      "29: 0.7390822985224023\n",
      "30: 0.7390870426953322\n",
      "31: 0.7390838469650002\n",
      "32: 0.7390859996481299\n",
      "33: 0.7390845495752126\n",
      "34: 0.7390855263619245\n",
      "35: 0.7390848683867142\n",
      "36: 0.7390853116067619\n",
      "37: 0.7390850130484203\n",
      "38: 0.739085214160917\n",
      "39: 0.739085078689123\n",
      "40: 0.7390851699445544\n",
      "41: 0.7390851084737986\n",
      "42: 0.7390851498812395\n",
      "43: 0.7390851219886894\n",
      "44: 0.7390851407774467\n",
      "45: 0.7390851281211138\n",
      "46: 0.7390851366465718\n",
      "47: 0.7390851309037207\n",
      "48: 0.7390851347721743\n",
      "49: 0.7390851321663374\n",
      "50: 0.7390851339216605\n",
      "51: 0.7390851327392538\n",
      "52: 0.7390851335357372\n",
      "53: 0.7390851329992164\n",
      "54: 0.7390851333606232\n",
      "55: 0.7390851331171753\n",
      "56: 0.7390851332811648\n",
      "57: 0.7390851331706995\n",
      "58: 0.7390851332451103\n",
      "59: 0.7390851331949863\n",
      "60: 0.7390851332287504\n",
      "61: 0.7390851332060064\n",
      "62: 0.7390851332213271\n",
      "63: 0.7390851332110069\n",
      "64: 0.7390851332179587\n",
      "65: 0.7390851332132758\n",
      "66: 0.7390851332164303\n",
      "67: 0.7390851332143054\n",
      "68: 0.7390851332157368\n",
      "69: 0.7390851332147725\n",
      "70: 0.7390851332154221\n",
      "71: 0.7390851332149846\n",
      "72: 0.7390851332152792\n",
      "73: 0.7390851332150807\n",
      "74: 0.7390851332152144\n",
      "75: 0.7390851332151244\n",
      "76: 0.7390851332151851\n",
      "77: 0.7390851332151442\n",
      "78: 0.7390851332151718\n",
      "79: 0.7390851332151531\n",
      "80: 0.7390851332151657\n",
      "81: 0.7390851332151572\n",
      "82: 0.7390851332151629\n",
      "83: 0.7390851332151591\n",
      "84: 0.7390851332151617\n",
      "85: 0.73908513321516\n",
      "86: 0.7390851332151611\n",
      "87: 0.7390851332151603\n",
      "88: 0.7390851332151609\n",
      "89: 0.7390851332151605\n",
      "90: 0.7390851332151608\n"
     ]
    }
   ],
   "source": [
    "import math\n",
    "\n",
    "x     = 1.0\n",
    "old_x = 0.0\n",
    "i     = 1\n",
    "while abs(x - old_x) >= 4.0E-16:\n",
    "    old_x = x\n",
    "    x = math.cos(x)\n",
    "    print('{:2d}'.format(i), ': ', x, sep='')\n",
    "    i += 1"
   ]
  },
  {
   "cell_type": "markdown",
   "metadata": {},
   "source": [
    "It seems that the sequence $(x_n)_{n\\in\\mathbb{N}}$ does indeed converge and the solution $\\bar{x}$ to the equation $x=\\cos(x)$ satisfies \n",
    "$$ \\bar{x} \\approx 0.739085133215161. $$\n",
    "Furthermore, the limit $\\bar{x}$ does indeed satisfy the equation $\\cos(\\bar{x}) = \\bar{x}$:"
   ]
  },
  {
   "cell_type": "code",
   "execution_count": 3,
   "metadata": {},
   "outputs": [
    {
     "data": {
      "text/plain": [
       "0.7390851332151608"
      ]
     },
     "execution_count": 3,
     "metadata": {},
     "output_type": "execute_result"
    }
   ],
   "source": [
    "x"
   ]
  },
  {
   "cell_type": "code",
   "execution_count": 4,
   "metadata": {},
   "outputs": [
    {
     "data": {
      "text/plain": [
       "0.7390851332151605"
      ]
     },
     "execution_count": 4,
     "metadata": {},
     "output_type": "execute_result"
    }
   ],
   "source": [
    "math.cos(x)"
   ]
  },
  {
   "cell_type": "code",
   "execution_count": 5,
   "metadata": {},
   "outputs": [
    {
     "data": {
      "text/plain": [
       "3.3306690738754696e-16"
      ]
     },
     "execution_count": 5,
     "metadata": {},
     "output_type": "execute_result"
    }
   ],
   "source": [
    "x - math.cos(x)"
   ]
  },
  {
   "cell_type": "markdown",
   "metadata": {},
   "source": [
    "The tiny difference between <tt>x</tt> and <tt>math.cos(x)</tt> is due to rounding errors."
   ]
  }
 ],
 "metadata": {
  "kernelspec": {
   "display_name": "Python 3",
   "language": "python",
   "name": "python3"
  },
  "language_info": {
   "codemirror_mode": {
    "name": "ipython",
    "version": 3
   },
   "file_extension": ".py",
   "mimetype": "text/x-python",
   "name": "python",
   "nbconvert_exporter": "python",
   "pygments_lexer": "ipython3",
   "version": "3.6.6"
  }
 },
 "nbformat": 4,
 "nbformat_minor": 2
}
