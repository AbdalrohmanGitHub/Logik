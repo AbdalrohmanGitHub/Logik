{
 "cells": [
  {
   "cell_type": "markdown",
   "metadata": {},
   "source": [
    "# Solving the Wolf-Goat-Cabbage Problem"
   ]
  },
  {
   "cell_type": "markdown",
   "metadata": {},
   "source": [
    "An agricultural economist has to sell a *wolf*, a *goat*, and a *cabbage* on a market place.  In order to\n",
    "reach the market place, she has to cross a river.  The boat that she can use is so small that it can\n",
    "only accommodate either the goat, the wolf, or the cabbage in addition to the agricultural economist.\n",
    "Now if the agricultural economist leaves the wolf alone with the goat, the wolf will eat the goat.\n",
    "If, instead, the agricultural economist leaves the goat with the cabbage, the goat will eat the cabbage.\n",
    "Is it possible for the agricultural economist to develop a schedule that allows her to cross the river\n",
    "without either the goat or the cabbage being eaten?"
   ]
  },
  {
   "cell_type": "markdown",
   "metadata": {},
   "source": [
    "## Auxilliary Procedures for Computing a Path in a Graph"
   ]
  },
  {
   "cell_type": "markdown",
   "metadata": {},
   "source": [
    "The function <tt>dot_graph</tt> below is used to create a visual representation of a graph.  The graph is assumed to be represented as a set of pairs."
   ]
  },
  {
   "cell_type": "code",
   "execution_count": 1,
   "metadata": {},
   "outputs": [],
   "source": [
    "import graphviz as gv\n",
    "\n",
    "def dot_graph(R):\n",
    "    \"\"\"This function takes binary relation R as inputs and shows this relation as\n",
    "       a graph using the module graphviz.\n",
    "    \"\"\"\n",
    "    dot = gv.Digraph()\n",
    "    Nodes = { p[0] for p in R }.union({ p[1] for p in R })\n",
    "    for n in Nodes:\n",
    "        dot.node(str(set(n)))\n",
    "    for (x, y) in R:\n",
    "        dot.edge(str(set(x)), str(set(y)))\n",
    "    return dot"
   ]
  },
  {
   "cell_type": "code",
   "execution_count": 2,
   "metadata": {},
   "outputs": [],
   "source": [
    "def power(M):\n",
    "    \"This function computes the power set of the set M.\"\n",
    "    if M == set():\n",
    "        return { frozenset() }\n",
    "    else:\n",
    "        C  = set(M)  # C is a copy of M as we don't want to change the set M\n",
    "        x  = C.pop() # pop removes the element x from the set C\n",
    "        P1 = power(C)\n",
    "        P2 = { A.union({x}) for A in P1 }\n",
    "        return P1.union(P2)"
   ]
  },
  {
   "cell_type": "markdown",
   "metadata": {},
   "source": [
    "The function <tt>pathProduct</tt> below takes a set of pathes <tt>P<tt> and a binary relation <tt>R</tt> as its arguments.  If there is a path $L \\in P$ that has the form $L = (x_1, \\cdots, x_n)$ and there is a pair $(x_n, x_{n+1}) \\in R$, then the path $(x_1, \\cdots, x_n, x_{n+1})$ is an element of the set of pathes computed by this function."
   ]
  },
  {
   "cell_type": "code",
   "execution_count": 3,
   "metadata": {},
   "outputs": [],
   "source": [
    "def pathProduct(P, R):\n",
    "    return { T1 + (T2[1],) for T1 in P for T2 in R if T1[-1] == T2[0] and not T2[-1] in T1 }"
   ]
  },
  {
   "cell_type": "markdown",
   "metadata": {},
   "source": [
    "The function <tt>findPath</tt> takes three arguments:\n",
    "<ol>\n",
    "    <li><tt>start</tt> is a node in a graph.</li>\n",
    "    <li><tt>goal</tt> is a node in a graph.</li>\n",
    "    <li><tt>R</tt> is a graph represented as a set of pairs of nodes.</li>\n",
    "</ol>\n",
    "The function tries to find a path that leads from <tt>start</tt> to <tt>goal</tt>.  If no path is found, the function returns <tt>None</tt>."
   ]
  },
  {
   "cell_type": "code",
   "execution_count": 4,
   "metadata": {},
   "outputs": [],
   "source": [
    "def findPath(start, goal, R):\n",
    "    \"\"\"\n",
    "    start and goal are nodes in a graph, while R is a set of pairs of nodes.\n",
    "    R is interpreted as a relation.  The function findPath tries to find\n",
    "    a path from start to goal.\n",
    "    \"\"\"\n",
    "    P = { (start,)}                      # pathes beginning at start\n",
    "    i = 0\n",
    "    while len(P) > 0:\n",
    "        oldP  = P                          \n",
    "        P     = pathProduct(P, R)\n",
    "        Found = { T for T in P if T[-1] == goal }\n",
    "        if Found != set({}):\n",
    "            return Found.pop()"
   ]
  },
  {
   "cell_type": "markdown",
   "metadata": {},
   "source": [
    "## Problem Specific Code"
   ]
  },
  {
   "cell_type": "markdown",
   "metadata": {},
   "source": [
    "There is a problem if the wolf is alone with the goat or if the goat is alone with the cabbage."
   ]
  },
  {
   "cell_type": "code",
   "execution_count": 5,
   "metadata": {},
   "outputs": [],
   "source": [
    "def problem(S):\n",
    "    \"\"\"\n",
    "    S is a set of objects that are at one shore of the river.\n",
    "    This function returns <tt>True</tt> if there is a problem.\n",
    "    \"\"\"\n",
    "    return ('farmer' not in S) and             \\\n",
    "           (('goat' in S and 'cabbage' in S) or   # goat eats cabbage\n",
    "            ('wolf' in S and 'goat'    in S)   )  # wolf eats goat"
   ]
  },
  {
   "cell_type": "markdown",
   "metadata": {},
   "source": [
    "At the start, everything is on the left shore."
   ]
  },
  {
   "cell_type": "code",
   "execution_count": 6,
   "metadata": {},
   "outputs": [],
   "source": [
    "All = frozenset( ['farmer', 'wolf', 'goat', 'cabbage'] )"
   ]
  },
  {
   "cell_type": "markdown",
   "metadata": {},
   "source": [
    "<tt>States</tt> is the set of all states that do not have a problem."
   ]
  },
  {
   "cell_type": "code",
   "execution_count": 7,
   "metadata": {},
   "outputs": [
    {
     "data": {
      "text/plain": [
       "{frozenset(),\n",
       " frozenset({'cabbage', 'wolf'}),\n",
       " frozenset({'goat'}),\n",
       " frozenset({'farmer', 'goat'}),\n",
       " frozenset({'wolf'}),\n",
       " frozenset({'farmer', 'goat', 'wolf'}),\n",
       " frozenset({'cabbage'}),\n",
       " frozenset({'cabbage', 'farmer', 'wolf'}),\n",
       " frozenset({'cabbage', 'farmer', 'goat'}),\n",
       " frozenset({'cabbage', 'farmer', 'goat', 'wolf'})}"
      ]
     },
     "execution_count": 7,
     "metadata": {},
     "output_type": "execute_result"
    }
   ],
   "source": [
    "States = { S for S in power(All) if not problem(S) and not problem(All - S) }\n",
    "States"
   ]
  },
  {
   "cell_type": "markdown",
   "metadata": {},
   "source": [
    "<tt>R1</tt> decribes the transitions where the boat crosses the river from left to right."
   ]
  },
  {
   "cell_type": "code",
   "execution_count": 8,
   "metadata": {},
   "outputs": [
    {
     "data": {
      "text/plain": [
       "{(frozenset({'farmer', 'goat'}), frozenset({'goat'})),\n",
       " (frozenset({'cabbage', 'farmer', 'wolf'}), frozenset({'wolf'})),\n",
       " (frozenset({'farmer', 'goat'}), frozenset()),\n",
       " (frozenset({'cabbage', 'farmer', 'goat'}), frozenset({'goat'})),\n",
       " (frozenset({'cabbage', 'farmer', 'goat'}), frozenset({'cabbage'})),\n",
       " (frozenset({'cabbage', 'farmer', 'wolf'}), frozenset({'cabbage'})),\n",
       " (frozenset({'cabbage', 'farmer', 'wolf'}), frozenset({'cabbage', 'wolf'})),\n",
       " (frozenset({'farmer', 'goat', 'wolf'}), frozenset({'wolf'})),\n",
       " (frozenset({'farmer', 'goat', 'wolf'}), frozenset({'goat'})),\n",
       " (frozenset({'cabbage', 'farmer', 'goat', 'wolf'}),\n",
       "  frozenset({'cabbage', 'wolf'}))}"
      ]
     },
     "execution_count": 8,
     "metadata": {},
     "output_type": "execute_result"
    }
   ],
   "source": [
    "R1 = { (S, S - B) for S in States for B in power(S)\n",
    "                  if S - B in States and 'farmer' in B and len(B) <= 2\n",
    "     }\n",
    "R1"
   ]
  },
  {
   "cell_type": "markdown",
   "metadata": {},
   "source": [
    "<tt>R2</tt> is the inverse of <tt>R1</tt>."
   ]
  },
  {
   "cell_type": "code",
   "execution_count": 9,
   "metadata": {},
   "outputs": [],
   "source": [
    "R2 = { (S2, S1) for (S1, S2) in R1 }"
   ]
  },
  {
   "cell_type": "code",
   "execution_count": 10,
   "metadata": {},
   "outputs": [],
   "source": [
    "R = R1.union(R2)"
   ]
  },
  {
   "cell_type": "code",
   "execution_count": 15,
   "metadata": {},
   "outputs": [
    {
     "data": {
      "image/svg+xml": [
       "<?xml version=\"1.0\" encoding=\"UTF-8\" standalone=\"no\"?>\n",
       "<!DOCTYPE svg PUBLIC \"-//W3C//DTD SVG 1.1//EN\"\n",
       " \"http://www.w3.org/Graphics/SVG/1.1/DTD/svg11.dtd\">\n",
       "<!-- Generated by graphviz version 2.40.1 (20161225.0304)\n",
       " -->\n",
       "<!-- Title: %3 Pages: 1 -->\n",
       "<svg width=\"757pt\" height=\"476pt\"\n",
       " viewBox=\"0.00 0.00 756.78 476.00\" xmlns=\"http://www.w3.org/2000/svg\" xmlns:xlink=\"http://www.w3.org/1999/xlink\">\n",
       "<g id=\"graph0\" class=\"graph\" transform=\"scale(1 1) rotate(0) translate(4 472)\">\n",
       "<title>%3</title>\n",
       "<polygon fill=\"#ffffff\" stroke=\"transparent\" points=\"-4,4 -4,-472 752.782,-472 752.782,4 -4,4\"/>\n",
       "<!-- {&#39;cabbage&#39;, &#39;wolf&#39;} -->\n",
       "<g id=\"node1\" class=\"node\">\n",
       "<title>{&#39;cabbage&#39;, &#39;wolf&#39;}</title>\n",
       "<ellipse fill=\"none\" stroke=\"#000000\" cx=\"262.5882\" cy=\"-450\" rx=\"77.1866\" ry=\"18\"/>\n",
       "<text text-anchor=\"middle\" x=\"262.5882\" y=\"-446.3\" font-family=\"Times,serif\" font-size=\"14.00\" fill=\"#000000\">{&#39;cabbage&#39;, &#39;wolf&#39;}</text>\n",
       "</g>\n",
       "<!-- {&#39;cabbage&#39;, &#39;goat&#39;, &#39;wolf&#39;, &#39;farmer&#39;} -->\n",
       "<g id=\"node2\" class=\"node\">\n",
       "<title>{&#39;cabbage&#39;, &#39;goat&#39;, &#39;wolf&#39;, &#39;farmer&#39;}</title>\n",
       "<ellipse fill=\"none\" stroke=\"#000000\" cx=\"132.5882\" cy=\"-378\" rx=\"132.6765\" ry=\"18\"/>\n",
       "<text text-anchor=\"middle\" x=\"132.5882\" y=\"-374.3\" font-family=\"Times,serif\" font-size=\"14.00\" fill=\"#000000\">{&#39;cabbage&#39;, &#39;goat&#39;, &#39;wolf&#39;, &#39;farmer&#39;}</text>\n",
       "</g>\n",
       "<!-- {&#39;cabbage&#39;, &#39;wolf&#39;}&#45;&gt;{&#39;cabbage&#39;, &#39;goat&#39;, &#39;wolf&#39;, &#39;farmer&#39;} -->\n",
       "<g id=\"edge16\" class=\"edge\">\n",
       "<title>{&#39;cabbage&#39;, &#39;wolf&#39;}&#45;&gt;{&#39;cabbage&#39;, &#39;goat&#39;, &#39;wolf&#39;, &#39;farmer&#39;}</title>\n",
       "<path fill=\"none\" stroke=\"#000000\" d=\"M227.6732,-433.8418C209.0729,-424.1503 186.3369,-411.6688 167.7122,-400.9648\"/>\n",
       "<polygon fill=\"#000000\" stroke=\"#000000\" points=\"169.3416,-397.8638 158.9355,-395.8729 165.8288,-403.9186 169.3416,-397.8638\"/>\n",
       "</g>\n",
       "<!-- {&#39;cabbage&#39;, &#39;wolf&#39;, &#39;farmer&#39;} -->\n",
       "<g id=\"node7\" class=\"node\">\n",
       "<title>{&#39;cabbage&#39;, &#39;wolf&#39;, &#39;farmer&#39;}</title>\n",
       "<ellipse fill=\"none\" stroke=\"#000000\" cx=\"392.5882\" cy=\"-378\" rx=\"109.381\" ry=\"18\"/>\n",
       "<text text-anchor=\"middle\" x=\"392.5882\" y=\"-374.3\" font-family=\"Times,serif\" font-size=\"14.00\" fill=\"#000000\">{&#39;cabbage&#39;, &#39;wolf&#39;, &#39;farmer&#39;}</text>\n",
       "</g>\n",
       "<!-- {&#39;cabbage&#39;, &#39;wolf&#39;}&#45;&gt;{&#39;cabbage&#39;, &#39;wolf&#39;, &#39;farmer&#39;} -->\n",
       "<g id=\"edge13\" class=\"edge\">\n",
       "<title>{&#39;cabbage&#39;, &#39;wolf&#39;}&#45;&gt;{&#39;cabbage&#39;, &#39;wolf&#39;, &#39;farmer&#39;}</title>\n",
       "<path fill=\"none\" stroke=\"#000000\" d=\"M287.5565,-432.937C304.3487,-423.0561 326.8507,-410.5144 346.7614,-399.9097\"/>\n",
       "<polygon fill=\"#000000\" stroke=\"#000000\" points=\"348.4895,-402.9552 355.6973,-395.19 345.2203,-396.7655 348.4895,-402.9552\"/>\n",
       "</g>\n",
       "<!-- {&#39;cabbage&#39;, &#39;goat&#39;, &#39;wolf&#39;, &#39;farmer&#39;}&#45;&gt;{&#39;cabbage&#39;, &#39;wolf&#39;} -->\n",
       "<g id=\"edge8\" class=\"edge\">\n",
       "<title>{&#39;cabbage&#39;, &#39;goat&#39;, &#39;wolf&#39;, &#39;farmer&#39;}&#45;&gt;{&#39;cabbage&#39;, &#39;wolf&#39;}</title>\n",
       "<path fill=\"none\" stroke=\"#000000\" d=\"M169.9578,-395.4407C188.4662,-405.1379 210.5789,-417.308 228.606,-427.6921\"/>\n",
       "<polygon fill=\"#000000\" stroke=\"#000000\" points=\"227.2164,-430.9329 237.62,-432.937 230.7369,-424.8826 227.2164,-430.9329\"/>\n",
       "</g>\n",
       "<!-- {&#39;goat&#39;} -->\n",
       "<g id=\"node3\" class=\"node\">\n",
       "<title>{&#39;goat&#39;}</title>\n",
       "<ellipse fill=\"none\" stroke=\"#000000\" cx=\"482.5882\" cy=\"-162\" rx=\"38.1938\" ry=\"18\"/>\n",
       "<text text-anchor=\"middle\" x=\"482.5882\" y=\"-158.3\" font-family=\"Times,serif\" font-size=\"14.00\" fill=\"#000000\">{&#39;goat&#39;}</text>\n",
       "</g>\n",
       "<!-- {&#39;goat&#39;, &#39;farmer&#39;} -->\n",
       "<g id=\"node4\" class=\"node\">\n",
       "<title>{&#39;goat&#39;, &#39;farmer&#39;}</title>\n",
       "<ellipse fill=\"none\" stroke=\"#000000\" cx=\"678.5882\" cy=\"-90\" rx=\"70.3881\" ry=\"18\"/>\n",
       "<text text-anchor=\"middle\" x=\"678.5882\" y=\"-86.3\" font-family=\"Times,serif\" font-size=\"14.00\" fill=\"#000000\">{&#39;goat&#39;, &#39;farmer&#39;}</text>\n",
       "</g>\n",
       "<!-- {&#39;goat&#39;}&#45;&gt;{&#39;goat&#39;, &#39;farmer&#39;} -->\n",
       "<g id=\"edge4\" class=\"edge\">\n",
       "<title>{&#39;goat&#39;}&#45;&gt;{&#39;goat&#39;, &#39;farmer&#39;}</title>\n",
       "<path fill=\"none\" stroke=\"#000000\" d=\"M511.0398,-149.6228C540.825,-138.0335 588.0759,-120.5963 624.8694,-107.5688\"/>\n",
       "<polygon fill=\"#000000\" stroke=\"#000000\" points=\"626.1939,-110.8132 634.4628,-104.1893 623.868,-104.2108 626.1939,-110.8132\"/>\n",
       "</g>\n",
       "<!-- {&#39;goat&#39;, &#39;wolf&#39;, &#39;farmer&#39;} -->\n",
       "<g id=\"node6\" class=\"node\">\n",
       "<title>{&#39;goat&#39;, &#39;wolf&#39;, &#39;farmer&#39;}</title>\n",
       "<ellipse fill=\"none\" stroke=\"#000000\" cx=\"476.5882\" cy=\"-234\" rx=\"94.7833\" ry=\"18\"/>\n",
       "<text text-anchor=\"middle\" x=\"476.5882\" y=\"-230.3\" font-family=\"Times,serif\" font-size=\"14.00\" fill=\"#000000\">{&#39;goat&#39;, &#39;wolf&#39;, &#39;farmer&#39;}</text>\n",
       "</g>\n",
       "<!-- {&#39;goat&#39;}&#45;&gt;{&#39;goat&#39;, &#39;wolf&#39;, &#39;farmer&#39;} -->\n",
       "<g id=\"edge17\" class=\"edge\">\n",
       "<title>{&#39;goat&#39;}&#45;&gt;{&#39;goat&#39;, &#39;wolf&#39;, &#39;farmer&#39;}</title>\n",
       "<path fill=\"none\" stroke=\"#000000\" d=\"M487.0227,-179.9134C487.1478,-187.6993 486.5998,-197.01 485.5581,-205.6941\"/>\n",
       "<polygon fill=\"#000000\" stroke=\"#000000\" points=\"482.0597,-205.4261 484.0547,-215.8314 488.9839,-206.453 482.0597,-205.4261\"/>\n",
       "</g>\n",
       "<!-- {&#39;cabbage&#39;, &#39;goat&#39;, &#39;farmer&#39;} -->\n",
       "<g id=\"node10\" class=\"node\">\n",
       "<title>{&#39;cabbage&#39;, &#39;goat&#39;, &#39;farmer&#39;}</title>\n",
       "<ellipse fill=\"none\" stroke=\"#000000\" cx=\"482.5882\" cy=\"-90\" rx=\"107.781\" ry=\"18\"/>\n",
       "<text text-anchor=\"middle\" x=\"482.5882\" y=\"-86.3\" font-family=\"Times,serif\" font-size=\"14.00\" fill=\"#000000\">{&#39;cabbage&#39;, &#39;goat&#39;, &#39;farmer&#39;}</text>\n",
       "</g>\n",
       "<!-- {&#39;goat&#39;}&#45;&gt;{&#39;cabbage&#39;, &#39;goat&#39;, &#39;farmer&#39;} -->\n",
       "<g id=\"edge15\" class=\"edge\">\n",
       "<title>{&#39;goat&#39;}&#45;&gt;{&#39;cabbage&#39;, &#39;goat&#39;, &#39;farmer&#39;}</title>\n",
       "<path fill=\"none\" stroke=\"#000000\" d=\"M476.6725,-144.2022C475.8887,-136.3864 475.6572,-127.0171 475.978,-118.2836\"/>\n",
       "<polygon fill=\"#000000\" stroke=\"#000000\" points=\"479.4843,-118.2999 476.6432,-108.0931 472.4992,-117.8439 479.4843,-118.2999\"/>\n",
       "</g>\n",
       "<!-- {&#39;goat&#39;, &#39;farmer&#39;}&#45;&gt;{&#39;goat&#39;} -->\n",
       "<g id=\"edge1\" class=\"edge\">\n",
       "<title>{&#39;goat&#39;, &#39;farmer&#39;}&#45;&gt;{&#39;goat&#39;}</title>\n",
       "<path fill=\"none\" stroke=\"#000000\" d=\"M642.1411,-105.4679C608.6396,-118.3412 559.1768,-136.4765 524.1557,-148.7054\"/>\n",
       "<polygon fill=\"#000000\" stroke=\"#000000\" points=\"522.9878,-145.4059 514.6862,-151.9887 525.281,-152.0196 522.9878,-145.4059\"/>\n",
       "</g>\n",
       "<!-- set() -->\n",
       "<g id=\"node9\" class=\"node\">\n",
       "<title>set()</title>\n",
       "<ellipse fill=\"none\" stroke=\"#000000\" cx=\"678.5882\" cy=\"-18\" rx=\"27\" ry=\"18\"/>\n",
       "<text text-anchor=\"middle\" x=\"678.5882\" y=\"-14.3\" font-family=\"Times,serif\" font-size=\"14.00\" fill=\"#000000\">set()</text>\n",
       "</g>\n",
       "<!-- {&#39;goat&#39;, &#39;farmer&#39;}&#45;&gt;set() -->\n",
       "<g id=\"edge5\" class=\"edge\">\n",
       "<title>{&#39;goat&#39;, &#39;farmer&#39;}&#45;&gt;set()</title>\n",
       "<path fill=\"none\" stroke=\"#000000\" d=\"M672.6358,-71.8314C671.8739,-64.0125 671.6578,-54.6923 671.9878,-46.0221\"/>\n",
       "<polygon fill=\"#000000\" stroke=\"#000000\" points=\"675.4886,-46.1239 672.661,-35.9134 668.5041,-45.6587 675.4886,-46.1239\"/>\n",
       "</g>\n",
       "<!-- {&#39;cabbage&#39;} -->\n",
       "<g id=\"node5\" class=\"node\">\n",
       "<title>{&#39;cabbage&#39;}</title>\n",
       "<ellipse fill=\"none\" stroke=\"#000000\" cx=\"410.5882\" cy=\"-18\" rx=\"52.7911\" ry=\"18\"/>\n",
       "<text text-anchor=\"middle\" x=\"410.5882\" y=\"-14.3\" font-family=\"Times,serif\" font-size=\"14.00\" fill=\"#000000\">{&#39;cabbage&#39;}</text>\n",
       "</g>\n",
       "<!-- {&#39;cabbage&#39;}&#45;&gt;{&#39;cabbage&#39;, &#39;wolf&#39;, &#39;farmer&#39;} -->\n",
       "<g id=\"edge19\" class=\"edge\">\n",
       "<title>{&#39;cabbage&#39;}&#45;&gt;{&#39;cabbage&#39;, &#39;wolf&#39;, &#39;farmer&#39;}</title>\n",
       "<path fill=\"none\" stroke=\"#000000\" d=\"M400.3807,-36.1469C392.2558,-46.0442 381.7023,-58.9213 374.5882,-72 354.5716,-108.7994 346.5882,-120.1089 346.5882,-162 346.5882,-234 346.5882,-234 346.5882,-234 346.5882,-276.8507 368.1051,-322.4327 382.0202,-350.5653\"/>\n",
       "<polygon fill=\"#000000\" stroke=\"#000000\" points=\"378.9991,-352.3513 386.5774,-359.7554 385.2704,-349.2415 378.9991,-352.3513\"/>\n",
       "</g>\n",
       "<!-- {&#39;cabbage&#39;}&#45;&gt;{&#39;cabbage&#39;, &#39;goat&#39;, &#39;farmer&#39;} -->\n",
       "<g id=\"edge10\" class=\"edge\">\n",
       "<title>{&#39;cabbage&#39;}&#45;&gt;{&#39;cabbage&#39;, &#39;goat&#39;, &#39;farmer&#39;}</title>\n",
       "<path fill=\"none\" stroke=\"#000000\" d=\"M432.7997,-34.4393C442.6732,-43.3242 454.0799,-54.4918 463.5576,-64.4803\"/>\n",
       "<polygon fill=\"#000000\" stroke=\"#000000\" points=\"461.0069,-66.877 470.372,-71.8314 466.1405,-62.1182 461.0069,-66.877\"/>\n",
       "</g>\n",
       "<!-- {&#39;goat&#39;, &#39;wolf&#39;, &#39;farmer&#39;}&#45;&gt;{&#39;goat&#39;} -->\n",
       "<g id=\"edge20\" class=\"edge\">\n",
       "<title>{&#39;goat&#39;, &#39;wolf&#39;, &#39;farmer&#39;}&#45;&gt;{&#39;goat&#39;}</title>\n",
       "<path fill=\"none\" stroke=\"#000000\" d=\"M472.1499,-215.8314C472.0395,-208.0125 472.6002,-198.6923 473.6526,-190.0221\"/>\n",
       "<polygon fill=\"#000000\" stroke=\"#000000\" points=\"477.1467,-190.3219 475.1682,-179.9134 470.2241,-189.2839 477.1467,-190.3219\"/>\n",
       "</g>\n",
       "<!-- {&#39;wolf&#39;} -->\n",
       "<g id=\"node8\" class=\"node\">\n",
       "<title>{&#39;wolf&#39;}</title>\n",
       "<ellipse fill=\"none\" stroke=\"#000000\" cx=\"448.5882\" cy=\"-306\" rx=\"39.7935\" ry=\"18\"/>\n",
       "<text text-anchor=\"middle\" x=\"448.5882\" y=\"-302.3\" font-family=\"Times,serif\" font-size=\"14.00\" fill=\"#000000\">{&#39;wolf&#39;}</text>\n",
       "</g>\n",
       "<!-- {&#39;goat&#39;, &#39;wolf&#39;, &#39;farmer&#39;}&#45;&gt;{&#39;wolf&#39;} -->\n",
       "<g id=\"edge14\" class=\"edge\">\n",
       "<title>{&#39;goat&#39;, &#39;wolf&#39;, &#39;farmer&#39;}&#45;&gt;{&#39;wolf&#39;}</title>\n",
       "<path fill=\"none\" stroke=\"#000000\" d=\"M475.5181,-252.0206C473.1086,-260.3203 469.4138,-270.3355 465.4418,-279.4738\"/>\n",
       "<polygon fill=\"#000000\" stroke=\"#000000\" points=\"462.256,-278.0244 461.2445,-288.5708 468.6121,-280.9571 462.256,-278.0244\"/>\n",
       "</g>\n",
       "<!-- {&#39;cabbage&#39;, &#39;wolf&#39;, &#39;farmer&#39;}&#45;&gt;{&#39;cabbage&#39;, &#39;wolf&#39;} -->\n",
       "<g id=\"edge9\" class=\"edge\">\n",
       "<title>{&#39;cabbage&#39;, &#39;wolf&#39;, &#39;farmer&#39;}&#45;&gt;{&#39;cabbage&#39;, &#39;wolf&#39;}</title>\n",
       "<path fill=\"none\" stroke=\"#000000\" d=\"M366.6776,-395.6168C349.4331,-405.7376 326.4732,-418.5078 306.4601,-429.1298\"/>\n",
       "<polygon fill=\"#000000\" stroke=\"#000000\" points=\"304.7238,-426.0884 297.5033,-433.8418 307.9829,-432.2834 304.7238,-426.0884\"/>\n",
       "</g>\n",
       "<!-- {&#39;cabbage&#39;, &#39;wolf&#39;, &#39;farmer&#39;}&#45;&gt;{&#39;cabbage&#39;} -->\n",
       "<g id=\"edge12\" class=\"edge\">\n",
       "<title>{&#39;cabbage&#39;, &#39;wolf&#39;, &#39;farmer&#39;}&#45;&gt;{&#39;cabbage&#39;}</title>\n",
       "<path fill=\"none\" stroke=\"#000000\" d=\"M375.0527,-360.1978C355.7794,-333.7927 328.5882,-282.1706 328.5882,-234 328.5882,-234 328.5882,-234 328.5882,-162 328.5882,-120.1089 336.5716,-108.7994 356.5882,-72 362.5105,-61.1123 370.8164,-50.3642 379.2445,-41.3587\"/>\n",
       "<polygon fill=\"#000000\" stroke=\"#000000\" points=\"381.748,-43.8047 386.3032,-34.2391 376.7771,-38.8763 381.748,-43.8047\"/>\n",
       "</g>\n",
       "<!-- {&#39;cabbage&#39;, &#39;wolf&#39;, &#39;farmer&#39;}&#45;&gt;{&#39;wolf&#39;} -->\n",
       "<g id=\"edge2\" class=\"edge\">\n",
       "<title>{&#39;cabbage&#39;, &#39;wolf&#39;, &#39;farmer&#39;}&#45;&gt;{&#39;wolf&#39;}</title>\n",
       "<path fill=\"none\" stroke=\"#000000\" d=\"M400.767,-359.8314C406.8782,-350.8486 415.2511,-339.8843 423.3486,-330.2007\"/>\n",
       "<polygon fill=\"#000000\" stroke=\"#000000\" points=\"426.1584,-332.3014 430.03,-322.4393 420.8533,-327.7346 426.1584,-332.3014\"/>\n",
       "</g>\n",
       "<!-- {&#39;wolf&#39;}&#45;&gt;{&#39;goat&#39;, &#39;wolf&#39;, &#39;farmer&#39;} -->\n",
       "<g id=\"edge18\" class=\"edge\">\n",
       "<title>{&#39;wolf&#39;}&#45;&gt;{&#39;goat&#39;, &#39;wolf&#39;, &#39;farmer&#39;}</title>\n",
       "<path fill=\"none\" stroke=\"#000000\" d=\"M449.7014,-287.8314C452.0552,-279.7547 455.6146,-270.0761 459.4573,-261.1668\"/>\n",
       "<polygon fill=\"#000000\" stroke=\"#000000\" points=\"462.7134,-262.4627 463.6946,-251.9134 456.3489,-259.5483 462.7134,-262.4627\"/>\n",
       "</g>\n",
       "<!-- {&#39;wolf&#39;}&#45;&gt;{&#39;cabbage&#39;, &#39;wolf&#39;, &#39;farmer&#39;} -->\n",
       "<g id=\"edge7\" class=\"edge\">\n",
       "<title>{&#39;wolf&#39;}&#45;&gt;{&#39;cabbage&#39;, &#39;wolf&#39;, &#39;farmer&#39;}</title>\n",
       "<path fill=\"none\" stroke=\"#000000\" d=\"M440.6309,-323.8425C434.7605,-332.5031 426.7358,-343.0628 418.868,-352.5502\"/>\n",
       "<polygon fill=\"#000000\" stroke=\"#000000\" points=\"416.1692,-350.321 412.3467,-360.2022 421.4969,-354.8615 416.1692,-350.321\"/>\n",
       "</g>\n",
       "<!-- set()&#45;&gt;{&#39;goat&#39;, &#39;farmer&#39;} -->\n",
       "<g id=\"edge11\" class=\"edge\">\n",
       "<title>set()&#45;&gt;{&#39;goat&#39;, &#39;farmer&#39;}</title>\n",
       "<path fill=\"none\" stroke=\"#000000\" d=\"M684.5155,-35.9134C685.2894,-43.6993 685.5173,-53.01 685.1993,-61.6941\"/>\n",
       "<polygon fill=\"#000000\" stroke=\"#000000\" points=\"681.6965,-61.6254 684.5406,-71.8314 688.6817,-62.0794 681.6965,-61.6254\"/>\n",
       "</g>\n",
       "<!-- {&#39;cabbage&#39;, &#39;goat&#39;, &#39;farmer&#39;}&#45;&gt;{&#39;goat&#39;} -->\n",
       "<g id=\"edge3\" class=\"edge\">\n",
       "<title>{&#39;cabbage&#39;, &#39;goat&#39;, &#39;farmer&#39;}&#45;&gt;{&#39;goat&#39;}</title>\n",
       "<path fill=\"none\" stroke=\"#000000\" d=\"M488.5332,-108.0931C489.3032,-115.9477 489.5208,-125.3282 489.1861,-134.0453\"/>\n",
       "<polygon fill=\"#000000\" stroke=\"#000000\" points=\"485.682,-133.9901 488.504,-144.2022 492.6663,-134.4593 485.682,-133.9901\"/>\n",
       "</g>\n",
       "<!-- {&#39;cabbage&#39;, &#39;goat&#39;, &#39;farmer&#39;}&#45;&gt;{&#39;cabbage&#39;} -->\n",
       "<g id=\"edge6\" class=\"edge\">\n",
       "<title>{&#39;cabbage&#39;, &#39;goat&#39;, &#39;farmer&#39;}&#45;&gt;{&#39;cabbage&#39;}</title>\n",
       "<path fill=\"none\" stroke=\"#000000\" d=\"M458.8748,-72.2022C449.1854,-63.396 438.2252,-52.6179 429.1254,-42.9989\"/>\n",
       "<polygon fill=\"#000000\" stroke=\"#000000\" points=\"431.642,-40.565 422.2862,-35.593 426.4994,-45.3142 431.642,-40.565\"/>\n",
       "</g>\n",
       "</g>\n",
       "</svg>\n"
      ],
      "text/plain": [
       "<graphviz.dot.Digraph at 0x10ad25d30>"
      ]
     },
     "execution_count": 15,
     "metadata": {},
     "output_type": "execute_result"
    }
   ],
   "source": [
    "dot = dot_graph(R)\n",
    "dot"
   ]
  },
  {
   "cell_type": "code",
   "execution_count": 16,
   "metadata": {},
   "outputs": [
    {
     "data": {
      "text/plain": [
       "'wolf-goat-cabbage.pdf'"
      ]
     },
     "execution_count": 16,
     "metadata": {},
     "output_type": "execute_result"
    }
   ],
   "source": [
    "dot.render('wolf-goat-cabbage')"
   ]
  },
  {
   "cell_type": "markdown",
   "metadata": {},
   "source": [
    "At the beginning everything is on the left shore and nothing is on the right shore.   The goal is to have everybody on the right shore.  In that case, the left shore will be empty."
   ]
  },
  {
   "cell_type": "code",
   "execution_count": 12,
   "metadata": {},
   "outputs": [
    {
     "data": {
      "text/plain": [
       "(frozenset({'cabbage', 'farmer', 'goat', 'wolf'}),\n",
       " frozenset({'cabbage', 'wolf'}),\n",
       " frozenset({'cabbage', 'farmer', 'wolf'}),\n",
       " frozenset({'wolf'}),\n",
       " frozenset({'farmer', 'goat', 'wolf'}),\n",
       " frozenset({'goat'}),\n",
       " frozenset({'farmer', 'goat'}),\n",
       " frozenset())"
      ]
     },
     "execution_count": 12,
     "metadata": {},
     "output_type": "execute_result"
    }
   ],
   "source": [
    "start = All\n",
    "goal  = frozenset()\n",
    "Path  = findPath(start, goal, R)\n",
    "Path"
   ]
  },
  {
   "cell_type": "markdown",
   "metadata": {},
   "source": [
    "## Auxiliary Code for Pretty Printing"
   ]
  },
  {
   "cell_type": "markdown",
   "metadata": {},
   "source": [
    "The following code is used for printing the path that has been found.  We won't discuss the details of these functions."
   ]
  },
  {
   "cell_type": "code",
   "execution_count": 13,
   "metadata": {},
   "outputs": [
    {
     "name": "stdout",
     "output_type": "stream",
     "text": [
      "{'cabbage', 'goat', 'wolf', 'farmer'}                                   {}\n",
      "                         >>>>  frozenset({'goat', 'farmer'})  >>>> \n",
      "{'cabbage', 'wolf'}                                     {'goat', 'farmer'}\n",
      "                         <<<<  frozenset({'farmer'})  <<<< \n",
      "{'cabbage', 'wolf', 'farmer'}                                     {'goat'}\n",
      "                         >>>>  frozenset({'cabbage', 'farmer'})  >>>> \n",
      "{'wolf'}                                     {'goat', 'cabbage', 'farmer'}\n",
      "                         <<<<  frozenset({'goat', 'farmer'})  <<<< \n",
      "{'goat', 'wolf', 'farmer'}                                     {'cabbage'}\n",
      "                         >>>>  frozenset({'wolf', 'farmer'})  >>>> \n",
      "{'goat'}                                     {'cabbage', 'wolf', 'farmer'}\n",
      "                         <<<<  frozenset({'farmer'})  <<<< \n",
      "{'goat', 'farmer'}                                     {'cabbage', 'wolf'}\n",
      "                         >>>>  frozenset({'goat', 'farmer'})  >>>> \n",
      "{}                                   {'cabbage', 'goat', 'wolf', 'farmer'}\n"
     ]
    }
   ],
   "source": [
    "def mkPair(S, All):\n",
    "    \"Given the left shore, compute both the left shore and the right shore.\"\n",
    "    return (S, All - S);\n",
    "\n",
    "def my_str(s):\n",
    "    \"Print frozen sets as sets.\"\n",
    "    if len(s) == 0:\n",
    "        return \"{}\"\n",
    "    else:\n",
    "        return str(set(s))\n",
    "    \n",
    "def printPath(Path, All):\n",
    "    \"print the path one transition at a time\"\n",
    "    for i in range(len(Path)):\n",
    "        (S1, S2) = mkPair(Path[i], All)\n",
    "        if (len(S1) == 0 or len(S2) == 0):\n",
    "            print(my_str(S1), 33 * \" \", my_str(S2))\n",
    "        else:\n",
    "            print(my_str(S1), 35 * \" \", my_str(S2))\n",
    "        if i + 1 == len(Path): \n",
    "            break\n",
    "        (T1, T2) = mkPair(Path[i+1], All)        \n",
    "        if \"farmer\" in S1:\n",
    "            B = S1 - T1  # the boat crossing from left to right\n",
    "            print(\"                         >>>> \", B, \" >>>> \")\n",
    "        else:\n",
    "            B = S2 - T2  # the boat crossing from right to left\n",
    "            print(\"                         <<<< \", B, \" <<<< \")\n",
    "printPath(Path, All)"
   ]
  }
 ],
 "metadata": {
  "kernelspec": {
   "display_name": "Python 3",
   "language": "python",
   "name": "python3"
  },
  "language_info": {
   "codemirror_mode": {
    "name": "ipython",
    "version": 3
   },
   "file_extension": ".py",
   "mimetype": "text/x-python",
   "name": "python",
   "nbconvert_exporter": "python",
   "pygments_lexer": "ipython3",
   "version": "3.6.5"
  }
 },
 "nbformat": 4,
 "nbformat_minor": 2
}
