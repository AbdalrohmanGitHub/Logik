{
 "cells": [
  {
   "cell_type": "markdown",
   "metadata": {},
   "source": [
    "# Solving the Wolf-Goat-Cabbage Problem"
   ]
  },
  {
   "cell_type": "markdown",
   "metadata": {},
   "source": [
    "An agricultural economist has to sell a wolf, a goat, and a cabbage on a market place.  In order to\n",
    "reach the market place, she has to cross a river.  The boat that she can use is so small that it can\n",
    "only accommodate either the goat, the wolf, or the cabbage in addition to the agricultural economist.\n",
    "Now if the agricultural economist leaves the wolf alone with the goat, the wolf will eat the goat.\n",
    "If, instead, the agricultural economist leaves the goat with the cabbage, the goat will eat the cabbage.\n",
    "Is it possible for the agricultural economist to develop a schedule that allows her to cross the river\n",
    "without either the goat or the cabbage being eaten?"
   ]
  },
  {
   "cell_type": "markdown",
   "metadata": {},
   "source": [
    "## Auxilliary Procedures for Computing a Path in a Graph"
   ]
  },
  {
   "cell_type": "markdown",
   "metadata": {},
   "source": [
    "The function <tt>dot_graph</tt> below is used to create a visual representation of a graph.  The graph is assumed to be represented as a set of pairs."
   ]
  },
  {
   "cell_type": "code",
   "execution_count": 1,
   "metadata": {},
   "outputs": [],
   "source": [
    "import graphviz as gv\n",
    "\n",
    "def dot_graph(R):\n",
    "    \"\"\"This function takes binary relation R as inputs and shows this relation as\n",
    "       a graph using the module graphviz.\n",
    "    \"\"\"\n",
    "    dot = gv.Digraph()\n",
    "    Nodes = { p[0] for p in R }.union({ p[1] for p in R })\n",
    "    for n in Nodes:\n",
    "        dot.node(str(set(n)))\n",
    "    for (x, y) in R:\n",
    "        dot.edge(str(set(x)), str(set(y)))\n",
    "    return dot"
   ]
  },
  {
   "cell_type": "code",
   "execution_count": 2,
   "metadata": {},
   "outputs": [],
   "source": [
    "def power(M):\n",
    "    \"This function computes the power set of the set M.\"\n",
    "    if M == set():\n",
    "        return { frozenset() }\n",
    "    else:\n",
    "        C  = set(M)  # C is a copy of M as we don't want to change the set M\n",
    "        x  = C.pop() # pop removes the element x from the set C\n",
    "        P1 = power(C)\n",
    "        P2 = { A.union({x}) for A in P1 }\n",
    "        return P1.union(P2)"
   ]
  },
  {
   "cell_type": "markdown",
   "metadata": {},
   "source": [
    "The function <tt>pathProduct</tt> below takes a set of pathes <tt>P<tt> and a binary relation <tt>R</tt> as its arguments.  If there is a path $L \\in P$ that has the form $L = (x_1, \\cdots, x_n)$ and there is a pair $(x_n, x_{n+1}) \\in R$, then the path $(x_1, \\cdots, x_n, x_{n+1})$ is an element of the set of pathes computed by this function."
   ]
  },
  {
   "cell_type": "code",
   "execution_count": 3,
   "metadata": {},
   "outputs": [],
   "source": [
    "def pathProduct(P, R):\n",
    "    return { T1 + (T2[1],) for T1 in P for T2 in R if T1[-1] == T2[0] and not T2[-1] in T1 }"
   ]
  },
  {
   "cell_type": "markdown",
   "metadata": {},
   "source": [
    "The function <tt>findPath</tt> takes three arguments:\n",
    "<ol>\n",
    "    <li><tt>start</tt> is a node in a graph.</li>\n",
    "    <li><tt>goal</tt> is a node in a graph.</li>\n",
    "    <li><tt>R</tt> is a graph represented as a set of pairs of nodes.</li>\n",
    "</ol>\n",
    "The function tries to find a path that leads from <tt>start</tt> to <tt>goal</tt>.  If no path is found, the function returns <tt>None</tt>."
   ]
  },
  {
   "cell_type": "code",
   "execution_count": 4,
   "metadata": {},
   "outputs": [],
   "source": [
    "def findPath(start, goal, R):\n",
    "    \"\"\"\n",
    "    start and goal are nodes in a graph, while R is a set of pairs of nodes.\n",
    "    R is interpreted as a relation.  The function findPath tries to find\n",
    "    a path from start to goal.\n",
    "    \"\"\"\n",
    "    P = { (start,)}                      # pathes beginning at start\n",
    "    i = 0\n",
    "    while len(P) > 0:\n",
    "        oldP  = P                          \n",
    "        P     = pathProduct(P, R)\n",
    "        Found = { T for T in P if T[-1] == goal }\n",
    "        if Found != set({}):\n",
    "            return Found.pop()"
   ]
  },
  {
   "cell_type": "markdown",
   "metadata": {},
   "source": [
    "## Problem Specific Code"
   ]
  },
  {
   "cell_type": "markdown",
   "metadata": {},
   "source": [
    "There is a problem if the wolf is alone with the goat or if the goat is alone with the cabbage."
   ]
  },
  {
   "cell_type": "code",
   "execution_count": 5,
   "metadata": {},
   "outputs": [],
   "source": [
    "def problem(S):\n",
    "    \"\"\"\n",
    "    S is a set of objects that are at one shore of the river.\n",
    "    This function returns <tt>True</tt> if there is a problem.\n",
    "    \"\"\"\n",
    "    return (\"farmer\" not in S) and             \\\n",
    "           ((\"goat\" in S and \"cabbage\" in S) or   # goat eats cabbage\n",
    "            (\"wolf\" in S and \"goat\"    in S)   )  # wolf eats goat"
   ]
  },
  {
   "cell_type": "markdown",
   "metadata": {},
   "source": [
    "At the start, everything is on the left shore."
   ]
  },
  {
   "cell_type": "code",
   "execution_count": 6,
   "metadata": {},
   "outputs": [],
   "source": [
    "All = frozenset( [\"farmer\", \"wolf\", \"goat\", \"cabbage\"] )"
   ]
  },
  {
   "cell_type": "markdown",
   "metadata": {},
   "source": [
    "<tt>States</tt> is the set of all states that do not have a problem."
   ]
  },
  {
   "cell_type": "code",
   "execution_count": 7,
   "metadata": {},
   "outputs": [
    {
     "data": {
      "text/plain": [
       "{frozenset(),\n",
       " frozenset({'cabbage'}),\n",
       " frozenset({'wolf'}),\n",
       " frozenset({'cabbage', 'farmer', 'wolf'}),\n",
       " frozenset({'goat'}),\n",
       " frozenset({'farmer', 'goat'}),\n",
       " frozenset({'cabbage', 'farmer', 'goat'}),\n",
       " frozenset({'farmer', 'goat', 'wolf'}),\n",
       " frozenset({'cabbage', 'wolf'}),\n",
       " frozenset({'cabbage', 'farmer', 'goat', 'wolf'})}"
      ]
     },
     "execution_count": 7,
     "metadata": {},
     "output_type": "execute_result"
    }
   ],
   "source": [
    "States = { S for S in power(All) if not problem(S) and not problem(All - S) }\n",
    "States"
   ]
  },
  {
   "cell_type": "markdown",
   "metadata": {},
   "source": [
    "<tt>R1</tt> decribes the transitions where the boat crosses the river from left to right."
   ]
  },
  {
   "cell_type": "code",
   "execution_count": 8,
   "metadata": {},
   "outputs": [
    {
     "data": {
      "text/plain": [
       "{(frozenset({'farmer', 'goat'}), frozenset()),\n",
       " (frozenset({'farmer', 'goat'}), frozenset({'goat'})),\n",
       " (frozenset({'cabbage', 'farmer', 'goat'}), frozenset({'goat'})),\n",
       " (frozenset({'cabbage', 'farmer', 'goat'}), frozenset({'cabbage'})),\n",
       " (frozenset({'farmer', 'goat', 'wolf'}), frozenset({'wolf'})),\n",
       " (frozenset({'farmer', 'goat', 'wolf'}), frozenset({'goat'})),\n",
       " (frozenset({'cabbage', 'farmer', 'wolf'}), frozenset({'wolf'})),\n",
       " (frozenset({'cabbage', 'farmer', 'wolf'}), frozenset({'cabbage'})),\n",
       " (frozenset({'cabbage', 'farmer', 'wolf'}), frozenset({'cabbage', 'wolf'})),\n",
       " (frozenset({'cabbage', 'farmer', 'goat', 'wolf'}),\n",
       "  frozenset({'cabbage', 'wolf'}))}"
      ]
     },
     "execution_count": 8,
     "metadata": {},
     "output_type": "execute_result"
    }
   ],
   "source": [
    "R1 = { (S, S - B) for S in States for B in power(S)\n",
    "                  if S - B in States and \"farmer\" in B and len(B) <= 2\n",
    "     }\n",
    "R1"
   ]
  },
  {
   "cell_type": "markdown",
   "metadata": {},
   "source": [
    "<tt>R2</tt> is the inverse of <tt>R1</tt>."
   ]
  },
  {
   "cell_type": "code",
   "execution_count": 10,
   "metadata": {},
   "outputs": [],
   "source": [
    "R2 = { (S2, S1) for (S1, S2) in R1 }"
   ]
  },
  {
   "cell_type": "code",
   "execution_count": 11,
   "metadata": {},
   "outputs": [],
   "source": [
    "R = R1.union(R2)"
   ]
  },
  {
   "cell_type": "code",
   "execution_count": 12,
   "metadata": {},
   "outputs": [
    {
     "data": {
      "image/svg+xml": [
       "<?xml version=\"1.0\" encoding=\"UTF-8\" standalone=\"no\"?>\n",
       "<!DOCTYPE svg PUBLIC \"-//W3C//DTD SVG 1.1//EN\"\n",
       " \"http://www.w3.org/Graphics/SVG/1.1/DTD/svg11.dtd\">\n",
       "<!-- Generated by graphviz version 2.40.1 (20161225.0304)\n",
       " -->\n",
       "<!-- Title: %3 Pages: 1 -->\n",
       "<svg width=\"696pt\" height=\"404pt\"\n",
       " viewBox=\"0.00 0.00 695.78 404.00\" xmlns=\"http://www.w3.org/2000/svg\" xmlns:xlink=\"http://www.w3.org/1999/xlink\">\n",
       "<g id=\"graph0\" class=\"graph\" transform=\"scale(1 1) rotate(0) translate(4 400)\">\n",
       "<title>%3</title>\n",
       "<polygon fill=\"#ffffff\" stroke=\"transparent\" points=\"-4,4 -4,-400 691.782,-400 691.782,4 -4,4\"/>\n",
       "<!-- {&#39;wolf&#39;, &#39;cabbage&#39;, &#39;farmer&#39;} -->\n",
       "<g id=\"node1\" class=\"node\">\n",
       "<title>{&#39;wolf&#39;, &#39;cabbage&#39;, &#39;farmer&#39;}</title>\n",
       "<ellipse fill=\"none\" stroke=\"#000000\" cx=\"385.1938\" cy=\"-378\" rx=\"109.381\" ry=\"18\"/>\n",
       "<text text-anchor=\"middle\" x=\"385.1938\" y=\"-374.3\" font-family=\"Times,serif\" font-size=\"14.00\" fill=\"#000000\">{&#39;wolf&#39;, &#39;cabbage&#39;, &#39;farmer&#39;}</text>\n",
       "</g>\n",
       "<!-- {&#39;cabbage&#39;} -->\n",
       "<g id=\"node2\" class=\"node\">\n",
       "<title>{&#39;cabbage&#39;}</title>\n",
       "<ellipse fill=\"none\" stroke=\"#000000\" cx=\"268.1938\" cy=\"-306\" rx=\"52.7911\" ry=\"18\"/>\n",
       "<text text-anchor=\"middle\" x=\"268.1938\" y=\"-302.3\" font-family=\"Times,serif\" font-size=\"14.00\" fill=\"#000000\">{&#39;cabbage&#39;}</text>\n",
       "</g>\n",
       "<!-- {&#39;wolf&#39;, &#39;cabbage&#39;, &#39;farmer&#39;}&#45;&gt;{&#39;cabbage&#39;} -->\n",
       "<g id=\"edge17\" class=\"edge\">\n",
       "<title>{&#39;wolf&#39;, &#39;cabbage&#39;, &#39;farmer&#39;}&#45;&gt;{&#39;cabbage&#39;}</title>\n",
       "<path fill=\"none\" stroke=\"#000000\" d=\"M351.3102,-360.7542C334.4317,-350.9958 314.286,-338.6866 297.9991,-328.212\"/>\n",
       "<polygon fill=\"#000000\" stroke=\"#000000\" points=\"299.6832,-325.1321 289.393,-322.6094 295.8641,-330.9985 299.6832,-325.1321\"/>\n",
       "</g>\n",
       "<!-- {&#39;wolf&#39;} -->\n",
       "<g id=\"node3\" class=\"node\">\n",
       "<title>{&#39;wolf&#39;}</title>\n",
       "<ellipse fill=\"none\" stroke=\"#000000\" cx=\"319.1938\" cy=\"-18\" rx=\"39.7935\" ry=\"18\"/>\n",
       "<text text-anchor=\"middle\" x=\"319.1938\" y=\"-14.3\" font-family=\"Times,serif\" font-size=\"14.00\" fill=\"#000000\">{&#39;wolf&#39;}</text>\n",
       "</g>\n",
       "<!-- {&#39;wolf&#39;, &#39;cabbage&#39;, &#39;farmer&#39;}&#45;&gt;{&#39;wolf&#39;} -->\n",
       "<g id=\"edge15\" class=\"edge\">\n",
       "<title>{&#39;wolf&#39;, &#39;cabbage&#39;, &#39;farmer&#39;}&#45;&gt;{&#39;wolf&#39;}</title>\n",
       "<path fill=\"none\" stroke=\"#000000\" d=\"M379.3747,-359.8146C376.1938,-332.4983 376.1938,-279.25 376.1938,-234 376.1938,-234 376.1938,-234 376.1938,-162 376.1938,-120.1089 366.6941,-109.5846 348.1938,-72 343.5345,-62.5345 337.3142,-52.8958 331.6755,-44.4317\"/>\n",
       "<polygon fill=\"#000000\" stroke=\"#000000\" points=\"334.5678,-42.4603 326.0998,-36.0929 328.7487,-46.3512 334.5678,-42.4603\"/>\n",
       "</g>\n",
       "<!-- {&#39;wolf&#39;, &#39;cabbage&#39;} -->\n",
       "<g id=\"node10\" class=\"node\">\n",
       "<title>{&#39;wolf&#39;, &#39;cabbage&#39;}</title>\n",
       "<ellipse fill=\"none\" stroke=\"#000000\" cx=\"527.1938\" cy=\"-306\" rx=\"77.1866\" ry=\"18\"/>\n",
       "<text text-anchor=\"middle\" x=\"527.1938\" y=\"-302.3\" font-family=\"Times,serif\" font-size=\"14.00\" fill=\"#000000\">{&#39;wolf&#39;, &#39;cabbage&#39;}</text>\n",
       "</g>\n",
       "<!-- {&#39;wolf&#39;, &#39;cabbage&#39;, &#39;farmer&#39;}&#45;&gt;{&#39;wolf&#39;, &#39;cabbage&#39;} -->\n",
       "<g id=\"edge20\" class=\"edge\">\n",
       "<title>{&#39;wolf&#39;, &#39;cabbage&#39;, &#39;farmer&#39;}&#45;&gt;{&#39;wolf&#39;, &#39;cabbage&#39;}</title>\n",
       "<path fill=\"none\" stroke=\"#000000\" d=\"M413.6898,-360.5708C432.9518,-350.2651 458.7008,-337.1632 480.8485,-326.3806\"/>\n",
       "<polygon fill=\"#000000\" stroke=\"#000000\" points=\"482.6083,-329.4175 490.0905,-321.9163 479.5636,-323.1143 482.6083,-329.4175\"/>\n",
       "</g>\n",
       "<!-- {&#39;cabbage&#39;}&#45;&gt;{&#39;wolf&#39;, &#39;cabbage&#39;, &#39;farmer&#39;} -->\n",
       "<g id=\"edge11\" class=\"edge\">\n",
       "<title>{&#39;cabbage&#39;}&#45;&gt;{&#39;wolf&#39;, &#39;cabbage&#39;, &#39;farmer&#39;}</title>\n",
       "<path fill=\"none\" stroke=\"#000000\" d=\"M298.1688,-320.9984C315.2545,-330.7662 336.533,-343.7061 353.8303,-354.7878\"/>\n",
       "<polygon fill=\"#000000\" stroke=\"#000000\" points=\"352.1741,-357.8852 362.4694,-360.3868 355.9812,-352.011 352.1741,-357.8852\"/>\n",
       "</g>\n",
       "<!-- {&#39;goat&#39;, &#39;cabbage&#39;, &#39;farmer&#39;} -->\n",
       "<g id=\"node6\" class=\"node\">\n",
       "<title>{&#39;goat&#39;, &#39;cabbage&#39;, &#39;farmer&#39;}</title>\n",
       "<ellipse fill=\"none\" stroke=\"#000000\" cx=\"240.1938\" cy=\"-234\" rx=\"107.781\" ry=\"18\"/>\n",
       "<text text-anchor=\"middle\" x=\"240.1938\" y=\"-230.3\" font-family=\"Times,serif\" font-size=\"14.00\" fill=\"#000000\">{&#39;goat&#39;, &#39;cabbage&#39;, &#39;farmer&#39;}</text>\n",
       "</g>\n",
       "<!-- {&#39;cabbage&#39;}&#45;&gt;{&#39;goat&#39;, &#39;cabbage&#39;, &#39;farmer&#39;} -->\n",
       "<g id=\"edge5\" class=\"edge\">\n",
       "<title>{&#39;cabbage&#39;}&#45;&gt;{&#39;goat&#39;, &#39;cabbage&#39;, &#39;farmer&#39;}</title>\n",
       "<path fill=\"none\" stroke=\"#000000\" d=\"M255.3567,-288.2022C251.4493,-280.2146 247.4879,-270.6045 244.3811,-261.7087\"/>\n",
       "<polygon fill=\"#000000\" stroke=\"#000000\" points=\"247.6815,-260.5391 241.285,-252.0931 241.0184,-262.6846 247.6815,-260.5391\"/>\n",
       "</g>\n",
       "<!-- {&#39;wolf&#39;}&#45;&gt;{&#39;wolf&#39;, &#39;cabbage&#39;, &#39;farmer&#39;} -->\n",
       "<g id=\"edge19\" class=\"edge\">\n",
       "<title>{&#39;wolf&#39;}&#45;&gt;{&#39;wolf&#39;, &#39;cabbage&#39;, &#39;farmer&#39;}</title>\n",
       "<path fill=\"none\" stroke=\"#000000\" d=\"M339.9459,-33.7128C349.3163,-44.0687 359.4098,-58.218 366.1938,-72 384.6941,-109.5846 394.1938,-120.1089 394.1938,-162 394.1938,-234 394.1938,-234 394.1938,-234 394.1938,-274.124 394.1938,-320.5369 391.976,-349.5823\"/>\n",
       "<polygon fill=\"#000000\" stroke=\"#000000\" points=\"388.4655,-349.5306 391.0128,-359.8146 395.4347,-350.1867 388.4655,-349.5306\"/>\n",
       "</g>\n",
       "<!-- {&#39;goat&#39;, &#39;wolf&#39;, &#39;farmer&#39;} -->\n",
       "<g id=\"node7\" class=\"node\">\n",
       "<title>{&#39;goat&#39;, &#39;wolf&#39;, &#39;farmer&#39;}</title>\n",
       "<ellipse fill=\"none\" stroke=\"#000000\" cx=\"253.1938\" cy=\"-90\" rx=\"94.7833\" ry=\"18\"/>\n",
       "<text text-anchor=\"middle\" x=\"253.1938\" y=\"-86.3\" font-family=\"Times,serif\" font-size=\"14.00\" fill=\"#000000\">{&#39;goat&#39;, &#39;wolf&#39;, &#39;farmer&#39;}</text>\n",
       "</g>\n",
       "<!-- {&#39;wolf&#39;}&#45;&gt;{&#39;goat&#39;, &#39;wolf&#39;, &#39;farmer&#39;} -->\n",
       "<g id=\"edge9\" class=\"edge\">\n",
       "<title>{&#39;wolf&#39;}&#45;&gt;{&#39;goat&#39;, &#39;wolf&#39;, &#39;farmer&#39;}</title>\n",
       "<path fill=\"none\" stroke=\"#000000\" d=\"M308.9619,-35.593C301.741,-44.4553 291.9386,-55.3536 282.5112,-65.0628\"/>\n",
       "<polygon fill=\"#000000\" stroke=\"#000000\" points=\"279.9852,-62.6394 275.4241,-72.2022 284.9531,-67.571 279.9852,-62.6394\"/>\n",
       "</g>\n",
       "<!-- {&#39;goat&#39;, &#39;farmer&#39;} -->\n",
       "<g id=\"node4\" class=\"node\">\n",
       "<title>{&#39;goat&#39;, &#39;farmer&#39;}</title>\n",
       "<ellipse fill=\"none\" stroke=\"#000000\" cx=\"70.1938\" cy=\"-90\" rx=\"70.3881\" ry=\"18\"/>\n",
       "<text text-anchor=\"middle\" x=\"70.1938\" y=\"-86.3\" font-family=\"Times,serif\" font-size=\"14.00\" fill=\"#000000\">{&#39;goat&#39;, &#39;farmer&#39;}</text>\n",
       "</g>\n",
       "<!-- {&#39;goat&#39;} -->\n",
       "<g id=\"node5\" class=\"node\">\n",
       "<title>{&#39;goat&#39;}</title>\n",
       "<ellipse fill=\"none\" stroke=\"#000000\" cx=\"240.1938\" cy=\"-162\" rx=\"38.1938\" ry=\"18\"/>\n",
       "<text text-anchor=\"middle\" x=\"240.1938\" y=\"-158.3\" font-family=\"Times,serif\" font-size=\"14.00\" fill=\"#000000\">{&#39;goat&#39;}</text>\n",
       "</g>\n",
       "<!-- {&#39;goat&#39;, &#39;farmer&#39;}&#45;&gt;{&#39;goat&#39;} -->\n",
       "<g id=\"edge14\" class=\"edge\">\n",
       "<title>{&#39;goat&#39;, &#39;farmer&#39;}&#45;&gt;{&#39;goat&#39;}</title>\n",
       "<path fill=\"none\" stroke=\"#000000\" d=\"M110.6936,-104.791C139.352,-116.313 177.2962,-132.3399 204.7597,-144.4999\"/>\n",
       "<polygon fill=\"#000000\" stroke=\"#000000\" points=\"203.4461,-147.7464 214.0044,-148.6261 206.2992,-141.3542 203.4461,-147.7464\"/>\n",
       "</g>\n",
       "<!-- set() -->\n",
       "<g id=\"node9\" class=\"node\">\n",
       "<title>set()</title>\n",
       "<ellipse fill=\"none\" stroke=\"#000000\" cx=\"70.1938\" cy=\"-18\" rx=\"27\" ry=\"18\"/>\n",
       "<text text-anchor=\"middle\" x=\"70.1938\" y=\"-14.3\" font-family=\"Times,serif\" font-size=\"14.00\" fill=\"#000000\">set()</text>\n",
       "</g>\n",
       "<!-- {&#39;goat&#39;, &#39;farmer&#39;}&#45;&gt;set() -->\n",
       "<g id=\"edge4\" class=\"edge\">\n",
       "<title>{&#39;goat&#39;, &#39;farmer&#39;}&#45;&gt;set()</title>\n",
       "<path fill=\"none\" stroke=\"#000000\" d=\"M64.2414,-71.8314C63.4794,-64.0125 63.2634,-54.6923 63.5933,-46.0221\"/>\n",
       "<polygon fill=\"#000000\" stroke=\"#000000\" points=\"67.0942,-46.1239 64.2665,-35.9134 60.1097,-45.6587 67.0942,-46.1239\"/>\n",
       "</g>\n",
       "<!-- {&#39;goat&#39;}&#45;&gt;{&#39;goat&#39;, &#39;farmer&#39;} -->\n",
       "<g id=\"edge2\" class=\"edge\">\n",
       "<title>{&#39;goat&#39;}&#45;&gt;{&#39;goat&#39;, &#39;farmer&#39;}</title>\n",
       "<path fill=\"none\" stroke=\"#000000\" d=\"M209.3651,-151.0647C182.0396,-140.2735 142.0981,-123.517 111.9462,-110.2849\"/>\n",
       "<polygon fill=\"#000000\" stroke=\"#000000\" points=\"113.0905,-106.9641 102.529,-106.1246 110.2618,-113.3671 113.0905,-106.9641\"/>\n",
       "</g>\n",
       "<!-- {&#39;goat&#39;}&#45;&gt;{&#39;goat&#39;, &#39;cabbage&#39;, &#39;farmer&#39;} -->\n",
       "<g id=\"edge16\" class=\"edge\">\n",
       "<title>{&#39;goat&#39;}&#45;&gt;{&#39;goat&#39;, &#39;cabbage&#39;, &#39;farmer&#39;}</title>\n",
       "<path fill=\"none\" stroke=\"#000000\" d=\"M246.121,-179.9134C246.8949,-187.6993 247.1229,-197.01 246.8048,-205.6941\"/>\n",
       "<polygon fill=\"#000000\" stroke=\"#000000\" points=\"243.302,-205.6254 246.1462,-215.8314 250.2873,-206.0794 243.302,-205.6254\"/>\n",
       "</g>\n",
       "<!-- {&#39;goat&#39;}&#45;&gt;{&#39;goat&#39;, &#39;wolf&#39;, &#39;farmer&#39;} -->\n",
       "<g id=\"edge3\" class=\"edge\">\n",
       "<title>{&#39;goat&#39;}&#45;&gt;{&#39;goat&#39;, &#39;wolf&#39;, &#39;farmer&#39;}</title>\n",
       "<path fill=\"none\" stroke=\"#000000\" d=\"M237.5218,-143.8314C238.1688,-136.0463 239.6257,-126.7729 241.5092,-118.1347\"/>\n",
       "<polygon fill=\"#000000\" stroke=\"#000000\" points=\"244.9106,-118.9591 243.8931,-108.4133 238.1121,-117.2919 244.9106,-118.9591\"/>\n",
       "</g>\n",
       "<!-- {&#39;goat&#39;, &#39;cabbage&#39;, &#39;farmer&#39;}&#45;&gt;{&#39;cabbage&#39;} -->\n",
       "<g id=\"edge10\" class=\"edge\">\n",
       "<title>{&#39;goat&#39;, &#39;cabbage&#39;, &#39;farmer&#39;}&#45;&gt;{&#39;cabbage&#39;}</title>\n",
       "<path fill=\"none\" stroke=\"#000000\" d=\"M253.0874,-251.9134C256.9726,-259.8704 260.907,-269.42 263.9975,-278.2657\"/>\n",
       "<polygon fill=\"#000000\" stroke=\"#000000\" points=\"260.6816,-279.3872 267.0806,-287.8314 267.3441,-277.2398 260.6816,-279.3872\"/>\n",
       "</g>\n",
       "<!-- {&#39;goat&#39;, &#39;cabbage&#39;, &#39;farmer&#39;}&#45;&gt;{&#39;goat&#39;} -->\n",
       "<g id=\"edge1\" class=\"edge\">\n",
       "<title>{&#39;goat&#39;, &#39;cabbage&#39;, &#39;farmer&#39;}&#45;&gt;{&#39;goat&#39;}</title>\n",
       "<path fill=\"none\" stroke=\"#000000\" d=\"M234.2414,-215.8314C233.4794,-208.0125 233.2634,-198.6923 233.5933,-190.0221\"/>\n",
       "<polygon fill=\"#000000\" stroke=\"#000000\" points=\"237.0942,-190.1239 234.2665,-179.9134 230.1097,-189.6587 237.0942,-190.1239\"/>\n",
       "</g>\n",
       "<!-- {&#39;goat&#39;, &#39;wolf&#39;, &#39;farmer&#39;}&#45;&gt;{&#39;wolf&#39;} -->\n",
       "<g id=\"edge12\" class=\"edge\">\n",
       "<title>{&#39;goat&#39;, &#39;wolf&#39;, &#39;farmer&#39;}&#45;&gt;{&#39;wolf&#39;}</title>\n",
       "<path fill=\"none\" stroke=\"#000000\" d=\"M263.896,-71.8314C271.5107,-62.5362 281.842,-51.1192 291.5765,-41.195\"/>\n",
       "<polygon fill=\"#000000\" stroke=\"#000000\" points=\"294.2303,-43.4918 298.8493,-33.9568 289.2924,-38.5303 294.2303,-43.4918\"/>\n",
       "</g>\n",
       "<!-- {&#39;goat&#39;, &#39;wolf&#39;, &#39;farmer&#39;}&#45;&gt;{&#39;goat&#39;} -->\n",
       "<g id=\"edge13\" class=\"edge\">\n",
       "<title>{&#39;goat&#39;, &#39;wolf&#39;, &#39;farmer&#39;}&#45;&gt;{&#39;goat&#39;}</title>\n",
       "<path fill=\"none\" stroke=\"#000000\" d=\"M255.872,-108.0931C255.2166,-116.034 253.7151,-125.5345 251.776,-134.3325\"/>\n",
       "<polygon fill=\"#000000\" stroke=\"#000000\" points=\"248.3384,-133.6533 249.323,-144.2022 255.1317,-135.3417 248.3384,-133.6533\"/>\n",
       "</g>\n",
       "<!-- {&#39;goat&#39;, &#39;wolf&#39;, &#39;cabbage&#39;, &#39;farmer&#39;} -->\n",
       "<g id=\"node8\" class=\"node\">\n",
       "<title>{&#39;goat&#39;, &#39;wolf&#39;, &#39;cabbage&#39;, &#39;farmer&#39;}</title>\n",
       "<ellipse fill=\"none\" stroke=\"#000000\" cx=\"555.1938\" cy=\"-234\" rx=\"132.6765\" ry=\"18\"/>\n",
       "<text text-anchor=\"middle\" x=\"555.1938\" y=\"-230.3\" font-family=\"Times,serif\" font-size=\"14.00\" fill=\"#000000\">{&#39;goat&#39;, &#39;wolf&#39;, &#39;cabbage&#39;, &#39;farmer&#39;}</text>\n",
       "</g>\n",
       "<!-- {&#39;goat&#39;, &#39;wolf&#39;, &#39;cabbage&#39;, &#39;farmer&#39;}&#45;&gt;{&#39;wolf&#39;, &#39;cabbage&#39;} -->\n",
       "<g id=\"edge6\" class=\"edge\">\n",
       "<title>{&#39;goat&#39;, &#39;wolf&#39;, &#39;cabbage&#39;, &#39;farmer&#39;}&#45;&gt;{&#39;wolf&#39;, &#39;cabbage&#39;}</title>\n",
       "<path fill=\"none\" stroke=\"#000000\" d=\"M554.1026,-252.0931C551.7426,-260.2066 548.1602,-269.9483 544.2936,-278.9052\"/>\n",
       "<polygon fill=\"#000000\" stroke=\"#000000\" points=\"541.0173,-277.6534 540.0308,-288.2022 547.3803,-280.571 541.0173,-277.6534\"/>\n",
       "</g>\n",
       "<!-- set()&#45;&gt;{&#39;goat&#39;, &#39;farmer&#39;} -->\n",
       "<g id=\"edge18\" class=\"edge\">\n",
       "<title>set()&#45;&gt;{&#39;goat&#39;, &#39;farmer&#39;}</title>\n",
       "<path fill=\"none\" stroke=\"#000000\" d=\"M76.121,-35.9134C76.8949,-43.6993 77.1229,-53.01 76.8048,-61.6941\"/>\n",
       "<polygon fill=\"#000000\" stroke=\"#000000\" points=\"73.302,-61.6254 76.1462,-71.8314 80.2873,-62.0794 73.302,-61.6254\"/>\n",
       "</g>\n",
       "<!-- {&#39;wolf&#39;, &#39;cabbage&#39;}&#45;&gt;{&#39;wolf&#39;, &#39;cabbage&#39;, &#39;farmer&#39;} -->\n",
       "<g id=\"edge7\" class=\"edge\">\n",
       "<title>{&#39;wolf&#39;, &#39;cabbage&#39;}&#45;&gt;{&#39;wolf&#39;, &#39;cabbage&#39;, &#39;farmer&#39;}</title>\n",
       "<path fill=\"none\" stroke=\"#000000\" d=\"M499.4535,-323.0245C480.6753,-333.0889 455.4921,-345.9237 433.5058,-356.6604\"/>\n",
       "<polygon fill=\"#000000\" stroke=\"#000000\" points=\"431.779,-353.6079 424.3069,-361.1192 434.8322,-359.907 431.779,-353.6079\"/>\n",
       "</g>\n",
       "<!-- {&#39;wolf&#39;, &#39;cabbage&#39;}&#45;&gt;{&#39;goat&#39;, &#39;wolf&#39;, &#39;cabbage&#39;, &#39;farmer&#39;} -->\n",
       "<g id=\"edge8\" class=\"edge\">\n",
       "<title>{&#39;wolf&#39;, &#39;cabbage&#39;}&#45;&gt;{&#39;goat&#39;, &#39;wolf&#39;, &#39;cabbage&#39;, &#39;farmer&#39;}</title>\n",
       "<path fill=\"none\" stroke=\"#000000\" d=\"M528.307,-287.8314C530.6251,-279.8771 534.1126,-270.369 537.8884,-261.5723\"/>\n",
       "<polygon fill=\"#000000\" stroke=\"#000000\" points=\"541.1,-262.9648 542.057,-252.4133 534.7289,-260.065 541.1,-262.9648\"/>\n",
       "</g>\n",
       "</g>\n",
       "</svg>\n"
      ],
      "text/plain": [
       "<graphviz.dot.Digraph at 0x10d22d1d0>"
      ]
     },
     "execution_count": 12,
     "metadata": {},
     "output_type": "execute_result"
    }
   ],
   "source": [
    "dot_graph(R)"
   ]
  },
  {
   "cell_type": "markdown",
   "metadata": {},
   "source": [
    "At the beginning everything is on the left shore and nothing is on the right shore.   The goal is to have everybody on the right shore.  In that case, the left shore will be empty."
   ]
  },
  {
   "cell_type": "code",
   "execution_count": 13,
   "metadata": {},
   "outputs": [
    {
     "data": {
      "text/plain": [
       "(frozenset({'cabbage', 'farmer', 'goat', 'wolf'}),\n",
       " frozenset({'cabbage', 'wolf'}),\n",
       " frozenset({'cabbage', 'farmer', 'wolf'}),\n",
       " frozenset({'wolf'}),\n",
       " frozenset({'farmer', 'goat', 'wolf'}),\n",
       " frozenset({'goat'}),\n",
       " frozenset({'farmer', 'goat'}),\n",
       " frozenset())"
      ]
     },
     "execution_count": 13,
     "metadata": {},
     "output_type": "execute_result"
    }
   ],
   "source": [
    "start = All\n",
    "goal  = frozenset()\n",
    "Path  = findPath(start, goal, R)\n",
    "Path"
   ]
  },
  {
   "cell_type": "markdown",
   "metadata": {},
   "source": [
    "## Auxiliary Code for Pretty Printing"
   ]
  },
  {
   "cell_type": "markdown",
   "metadata": {},
   "source": [
    "The following code is used for printing the path that has been found."
   ]
  },
  {
   "cell_type": "code",
   "execution_count": 14,
   "metadata": {},
   "outputs": [
    {
     "name": "stdout",
     "output_type": "stream",
     "text": [
      "{'goat', 'wolf', 'cabbage', 'farmer'}                                   {}\n",
      "                         >>>>  frozenset({'goat', 'farmer'})  >>>> \n",
      "{'wolf', 'cabbage'}                                     {'goat', 'farmer'}\n",
      "                         <<<<  frozenset({'farmer'})  <<<< \n",
      "{'wolf', 'cabbage', 'farmer'}                                     {'goat'}\n",
      "                         >>>>  frozenset({'cabbage', 'farmer'})  >>>> \n",
      "{'wolf'}                                     {'goat', 'cabbage', 'farmer'}\n",
      "                         <<<<  frozenset({'goat', 'farmer'})  <<<< \n",
      "{'goat', 'wolf', 'farmer'}                                     {'cabbage'}\n",
      "                         >>>>  frozenset({'wolf', 'farmer'})  >>>> \n",
      "{'goat'}                                     {'wolf', 'cabbage', 'farmer'}\n",
      "                         <<<<  frozenset({'farmer'})  <<<< \n",
      "{'goat', 'farmer'}                                     {'wolf', 'cabbage'}\n",
      "                         >>>>  frozenset({'goat', 'farmer'})  >>>> \n",
      "{}                                   {'goat', 'wolf', 'cabbage', 'farmer'}\n"
     ]
    }
   ],
   "source": [
    "def mkPair(S, All):\n",
    "    \"Given the left shore, compute both the left shore and the right shore.\"\n",
    "    return (S, All - S);\n",
    "\n",
    "def my_str(s):\n",
    "    \"Print frozen sets as sets.\"\n",
    "    if len(s) == 0:\n",
    "        return \"{}\"\n",
    "    else:\n",
    "        return str(set(s))\n",
    "    \n",
    "def printPath(Path, All):\n",
    "    \"print the path one transition at a time\"\n",
    "    for i in range(len(Path)):\n",
    "        (S1, S2) = mkPair(Path[i], All)\n",
    "        if (len(S1) == 0 or len(S2) == 0):\n",
    "            print(my_str(S1), 33 * \" \", my_str(S2))\n",
    "        else:\n",
    "            print(my_str(S1), 35 * \" \", my_str(S2))\n",
    "        if i + 1 == len(Path): \n",
    "            break\n",
    "        (T1, T2) = mkPair(Path[i+1], All)        \n",
    "        if \"farmer\" in S1:\n",
    "            B = S1 - T1  # the boat crossing from left to right\n",
    "            print(\"                         >>>> \", B, \" >>>> \")\n",
    "        else:\n",
    "            B = S2 - T2  # the boat crossing from right to left\n",
    "            print(\"                         <<<< \", B, \" <<<< \")\n",
    "printPath(Path, All)"
   ]
  },
  {
   "cell_type": "code",
   "execution_count": null,
   "metadata": {},
   "outputs": [],
   "source": []
  }
 ],
 "metadata": {
  "kernelspec": {
   "display_name": "Python 3",
   "language": "python",
   "name": "python3"
  },
  "language_info": {
   "codemirror_mode": {
    "name": "ipython",
    "version": 3
   },
   "file_extension": ".py",
   "mimetype": "text/x-python",
   "name": "python",
   "nbconvert_exporter": "python",
   "pygments_lexer": "ipython3",
   "version": "3.6.6"
  }
 },
 "nbformat": 4,
 "nbformat_minor": 2
}
