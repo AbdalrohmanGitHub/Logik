{
 "cells": [
  {
   "cell_type": "code",
   "execution_count": 1,
   "metadata": {
    "collapsed": true
   },
   "outputs": [],
   "source": [
    "import re\n",
    "\n",
    "def tokenize(s):\n",
    "    \"\"\"Transform the string s into a list of tokens.  The string s\n",
    "       is supposed to represent a formula from propositional logic.\n",
    "    \"\"\"\n",
    "    lexSpec = r\"\"\" ([ \\t]+)               |  # blanks and tabs\n",
    "                   ([A-Za-z][A-Za-z0-9]*) |  # identifier\n",
    "                   (\\<-\\>)                |  # equivalence\n",
    "                   (-\\>)                  |  # implication\n",
    "                   ([&|!()])              |  # disjunction, conjunction, negation, parentheses\n",
    "               \"\"\"\n",
    "    scanner   = re.compile(lexSpec, re.VERBOSE)\n",
    "    tokenList = re.findall(scanner, s)\n",
    "    isSpace   = re.compile(\"[ \\t]+\")\n",
    "    result    = []\n",
    "    for ws, identifier, equivalence, implication, operator in tokenList:\n",
    "        if ws:        # skip blanks and tabs\n",
    "            continue\n",
    "        if identifier:\n",
    "            result += [ identifier ]\n",
    "            continue\n",
    "        if equivalence:\n",
    "            result += [ equivalence ]\n",
    "            continue\n",
    "        if implication:\n",
    "            result += [ implication ]\n",
    "            continue\n",
    "        if operator:\n",
    "            result += [ operator ]\n",
    "    return result"
   ]
  },
  {
   "cell_type": "code",
   "execution_count": 2,
   "metadata": {},
   "outputs": [
    {
     "data": {
      "text/plain": [
       "['a1', '<->', '(', 'bc', '->', '!', 'cd', '&', 'dc', ')', '|', 'axy']"
      ]
     },
     "execution_count": 2,
     "metadata": {},
     "output_type": "execute_result"
    }
   ],
   "source": [
    "tl = tokenize('a1 <-> (bc -> !cd & dc) | axy')\n",
    "tl"
   ]
  },
  {
   "cell_type": "code",
   "execution_count": null,
   "metadata": {
    "collapsed": true
   },
   "outputs": [],
   "source": [
    "isinstance('123', str)"
   ]
  },
  {
   "cell_type": "code",
   "execution_count": 3,
   "metadata": {
    "collapsed": true
   },
   "outputs": [],
   "source": [
    "def isPropVar(s):\n",
    "    \"\"\"Check, whether the string s can be interpreted as a propositional variable. \n",
    "    \"\"\"\n",
    "    return re.fullmatch(\"[A-Za-z][A-Za-z0-9]*\", s)"
   ]
  },
  {
   "cell_type": "code",
   "execution_count": 4,
   "metadata": {},
   "outputs": [
    {
     "name": "stdout",
     "output_type": "stream",
     "text": [
      "a1\n",
      "bc\n",
      "cd\n",
      "dc\n",
      "axy\n"
     ]
    }
   ],
   "source": [
    "for id in tl:\n",
    "    if isPropVar(id):\n",
    "        print(id)"
   ]
  },
  {
   "cell_type": "code",
   "execution_count": 10,
   "metadata": {
    "collapsed": true
   },
   "outputs": [],
   "source": [
    "def isPropVar(s):\n",
    "    \"\"\"Check, whether the string s can be interpreted as a propositional variable. \n",
    "    \"\"\"\n",
    "    return re.fullmatch(\"[A-Za-z][A-Za-z0-9]*\", s)"
   ]
  },
  {
   "cell_type": "code",
   "execution_count": 14,
   "metadata": {
    "collapsed": true
   },
   "outputs": [],
   "source": [
    "class LogicParser:\n",
    "    \"\"\"This class implements the shunting yard algorithm to parse formulas from\n",
    "       propositional logic.  The strings the represent formulas are transformed\n",
    "       into tuples that are interpreted as syntax trees representing the formulae.\n",
    "    \"\"\"\n",
    "    PRECEDENCES = { \"<->\": 1, \"->\": 2, \"|\": 3, \"&\": 4, \"!\": 5 }\n",
    "    LEFT_ASSOC  = { \"|\", \"&\" }\n",
    "    \n",
    "    def __init__(self, s):\n",
    "        \"The constructor takes a string s that represents a formula.\"\n",
    "        self._tokens    = tokenize(s)\n",
    "        self._operators = []\n",
    "        self._arguments = []\n",
    "\n",
    "    def parse(self):\n",
    "        \"\"\"Parse the token list and return a syntax tree.\"\"\"\n",
    "        while not self._tokens == []:\n",
    "            next_op = self._tokens.pop()\n",
    "            if isPropVar(next_op):\n",
    "                self._arguments.append(next_op)\n",
    "                continue\n",
    "            if (self._operators == [] or next_op == \"(\"):\n",
    "                self._operators.append(next_op)\n",
    "                continue\n",
    "            top_op = self._operators[-1]\n",
    "            if top_op == \"(\" and next_op == \")\":\n",
    "                self._operators.pop()\n",
    "            elif (next_op == \")\" or self._eval_before(top_op, next_op)):\n",
    "                self._pop_and_evaluate()\n",
    "                self._tokens.append(next_op)\n",
    "            else:\n",
    "                self._operators.append(next_op)\n",
    "        while not self._operators.is_empty():\n",
    "            self._pop_and_evaluate()\n",
    "        result = self._arguments.pop()\n",
    "        if not self._operators.is_empty() or not self._arguments.is_empty():\n",
    "            raise SyntaxError(\"Syntax error.\")\n",
    "        return result\n",
    "\n",
    "    def _eval_before(self, stack_op, next_op):\n",
    "        \"\"\"Check if the operator on top of the operator stack should be evaluated\n",
    "           before the next operator ffrom the input list.\n",
    "        \"\"\"\n",
    "        if stack_op == \"(\":\n",
    "            return False\n",
    "        prec_stack_op = self._get_precedence(stack_op)\n",
    "        prec_next_op  = self._get_precedence(next_op)\n",
    "        if prec_stack_op > prec_stack_op:\n",
    "            return True\n",
    "        elif prec_stack_op == prec_next_op:\n",
    "            if stack_op == next_op:\n",
    "                return stack_op in LEFT_ASSOC\n",
    "            return True\n",
    "        return False\n",
    "\n",
    "    def _get_precedence(self, operator):\n",
    "        \"Return the precedence of the given operator as an integer.\"\n",
    "        return self.PRECEDENCE[operator]\n",
    "\n",
    "    def _pop_and_evaluate(self):\n",
    "        op = self._operators.pop()\n",
    "        if op == \"!\":\n",
    "            arg = self._arguments.pop()\n",
    "            self._arguments.append( (\"!\", arg) )\n",
    "        rhs = self._arguments.pop()\n",
    "        lhs = self._arguments.pop()\n",
    "        self._arguments.append( (op, lhs, rhs) )\n",
    "\n",
    "    def __str__(self):\n",
    "        \"\"\"Return the current state as a string for pretty printing.\"\"\"\n",
    "\n",
    "        return (self._tokens.__str__()    + \"\\n\" +\n",
    "                self._arguments.__str__() + \"\\n\" +\n",
    "                self._operators.__str__())\n"
   ]
  },
  {
   "cell_type": "code",
   "execution_count": 15,
   "metadata": {
    "collapsed": true
   },
   "outputs": [],
   "source": [
    "def testParser(s):\n",
    "    p = LogicParser(s)\n",
    "    print(p.parse())"
   ]
  },
  {
   "cell_type": "code",
   "execution_count": 16,
   "metadata": {},
   "outputs": [
    {
     "ename": "AttributeError",
     "evalue": "'list' object has no attribute 'is_empty'",
     "output_type": "error",
     "traceback": [
      "\u001b[0;31m---------------------------------------------------------------------------\u001b[0m",
      "\u001b[0;31mAttributeError\u001b[0m                            Traceback (most recent call last)",
      "\u001b[0;32m<ipython-input-16-d369e4b3fae2>\u001b[0m in \u001b[0;36m<module>\u001b[0;34m()\u001b[0m\n\u001b[0;32m----> 1\u001b[0;31m \u001b[0mtestParser\u001b[0m\u001b[0;34m(\u001b[0m\u001b[0;34m\"p\"\u001b[0m\u001b[0;34m)\u001b[0m\u001b[0;34m\u001b[0m\u001b[0m\n\u001b[0m",
      "\u001b[0;32m<ipython-input-15-1076185623ed>\u001b[0m in \u001b[0;36mtestParser\u001b[0;34m(s)\u001b[0m\n\u001b[1;32m      1\u001b[0m \u001b[0;32mdef\u001b[0m \u001b[0mtestParser\u001b[0m\u001b[0;34m(\u001b[0m\u001b[0ms\u001b[0m\u001b[0;34m)\u001b[0m\u001b[0;34m:\u001b[0m\u001b[0;34m\u001b[0m\u001b[0m\n\u001b[1;32m      2\u001b[0m     \u001b[0mp\u001b[0m \u001b[0;34m=\u001b[0m \u001b[0mLogicParser\u001b[0m\u001b[0;34m(\u001b[0m\u001b[0ms\u001b[0m\u001b[0;34m)\u001b[0m\u001b[0;34m\u001b[0m\u001b[0m\n\u001b[0;32m----> 3\u001b[0;31m     \u001b[0mprint\u001b[0m\u001b[0;34m(\u001b[0m\u001b[0mp\u001b[0m\u001b[0;34m.\u001b[0m\u001b[0mparse\u001b[0m\u001b[0;34m(\u001b[0m\u001b[0;34m)\u001b[0m\u001b[0;34m)\u001b[0m\u001b[0;34m\u001b[0m\u001b[0m\n\u001b[0m",
      "\u001b[0;32m<ipython-input-14-2d65498ac207>\u001b[0m in \u001b[0;36mparse\u001b[0;34m(self)\u001b[0m\n\u001b[1;32m     31\u001b[0m             \u001b[0;32melse\u001b[0m\u001b[0;34m:\u001b[0m\u001b[0;34m\u001b[0m\u001b[0m\n\u001b[1;32m     32\u001b[0m                 \u001b[0mself\u001b[0m\u001b[0;34m.\u001b[0m\u001b[0m_operators\u001b[0m\u001b[0;34m.\u001b[0m\u001b[0mappend\u001b[0m\u001b[0;34m(\u001b[0m\u001b[0mnext_op\u001b[0m\u001b[0;34m)\u001b[0m\u001b[0;34m\u001b[0m\u001b[0m\n\u001b[0;32m---> 33\u001b[0;31m         \u001b[0;32mwhile\u001b[0m \u001b[0;32mnot\u001b[0m \u001b[0mself\u001b[0m\u001b[0;34m.\u001b[0m\u001b[0m_operators\u001b[0m\u001b[0;34m.\u001b[0m\u001b[0mis_empty\u001b[0m\u001b[0;34m(\u001b[0m\u001b[0;34m)\u001b[0m\u001b[0;34m:\u001b[0m\u001b[0;34m\u001b[0m\u001b[0m\n\u001b[0m\u001b[1;32m     34\u001b[0m             \u001b[0mself\u001b[0m\u001b[0;34m.\u001b[0m\u001b[0m_pop_and_evaluate\u001b[0m\u001b[0;34m(\u001b[0m\u001b[0;34m)\u001b[0m\u001b[0;34m\u001b[0m\u001b[0m\n\u001b[1;32m     35\u001b[0m         \u001b[0mresult\u001b[0m \u001b[0;34m=\u001b[0m \u001b[0mself\u001b[0m\u001b[0;34m.\u001b[0m\u001b[0m_arguments\u001b[0m\u001b[0;34m.\u001b[0m\u001b[0mpop\u001b[0m\u001b[0;34m(\u001b[0m\u001b[0;34m)\u001b[0m\u001b[0;34m\u001b[0m\u001b[0m\n",
      "\u001b[0;31mAttributeError\u001b[0m: 'list' object has no attribute 'is_empty'"
     ]
    }
   ],
   "source": [
    "testParser(\"p\")"
   ]
  },
  {
   "cell_type": "code",
   "execution_count": 18,
   "metadata": {
    "collapsed": true
   },
   "outputs": [],
   "source": [
    "L = [1,2,3]"
   ]
  },
  {
   "cell_type": "code",
   "execution_count": 20,
   "metadata": {},
   "outputs": [
    {
     "data": {
      "text/plain": [
       "<list_reverseiterator at 0x10f656320>"
      ]
     },
     "execution_count": 20,
     "metadata": {},
     "output_type": "execute_result"
    }
   ],
   "source": [
    "reversed(L)"
   ]
  },
  {
   "cell_type": "code",
   "execution_count": 23,
   "metadata": {},
   "outputs": [
    {
     "data": {
      "text/plain": [
       "[3, 2, 1]"
      ]
     },
     "execution_count": 23,
     "metadata": {},
     "output_type": "execute_result"
    }
   ],
   "source": [
    "list(reversed(L))"
   ]
  },
  {
   "cell_type": "code",
   "execution_count": 24,
   "metadata": {},
   "outputs": [
    {
     "data": {
      "text/plain": [
       "set()"
      ]
     },
     "execution_count": 24,
     "metadata": {},
     "output_type": "execute_result"
    }
   ],
   "source": [
    "set({})"
   ]
  },
  {
   "cell_type": "code",
   "execution_count": 25,
   "metadata": {
    "collapsed": true
   },
   "outputs": [],
   "source": [
    "S = {1,2,3}"
   ]
  },
  {
   "cell_type": "code",
   "execution_count": 26,
   "metadata": {},
   "outputs": [
    {
     "data": {
      "text/plain": [
       "1"
      ]
     },
     "execution_count": 26,
     "metadata": {},
     "output_type": "execute_result"
    }
   ],
   "source": [
    "S.pop()"
   ]
  },
  {
   "cell_type": "code",
   "execution_count": 27,
   "metadata": {},
   "outputs": [
    {
     "data": {
      "text/plain": [
       "{2, 3}"
      ]
     },
     "execution_count": 27,
     "metadata": {},
     "output_type": "execute_result"
    }
   ],
   "source": [
    "S"
   ]
  },
  {
   "cell_type": "code",
   "execution_count": 28,
   "metadata": {},
   "outputs": [
    {
     "data": {
      "text/plain": [
       "{2, 3, 11}"
      ]
     },
     "execution_count": 28,
     "metadata": {},
     "output_type": "execute_result"
    }
   ],
   "source": [
    "S | { 11 }"
   ]
  },
  {
   "cell_type": "code",
   "execution_count": 29,
   "metadata": {},
   "outputs": [
    {
     "data": {
      "text/plain": [
       "{2, 3}"
      ]
     },
     "execution_count": 29,
     "metadata": {},
     "output_type": "execute_result"
    }
   ],
   "source": [
    "S"
   ]
  },
  {
   "cell_type": "code",
   "execution_count": 30,
   "metadata": {
    "collapsed": true
   },
   "outputs": [],
   "source": [
    "def power(M):\n",
    "    \"Compute a list containing all subsets of the set M\"\n",
    "    if M == set():\n",
    "        return [ set() ]\n",
    "    x = M.pop()\n",
    "    L = power(M)\n",
    "    return L + [ K | { x } for K in L ]\n"
   ]
  },
  {
   "cell_type": "code",
   "execution_count": 31,
   "metadata": {},
   "outputs": [
    {
     "data": {
      "text/plain": [
       "[set(), {3}, {2}, {2, 3}, {1}, {1, 3}, {1, 2}, {1, 2, 3}]"
      ]
     },
     "execution_count": 31,
     "metadata": {},
     "output_type": "execute_result"
    }
   ],
   "source": [
    "power({1,2,3})"
   ]
  },
  {
   "cell_type": "code",
   "execution_count": 2,
   "metadata": {
    "collapsed": true
   },
   "outputs": [],
   "source": [
    "precedences = { '+': 1, '-': 1, '*': 2, '/': 2, '**': 3 }"
   ]
  },
  {
   "cell_type": "code",
   "execution_count": 3,
   "metadata": {},
   "outputs": [
    {
     "data": {
      "text/plain": [
       "True"
      ]
     },
     "execution_count": 3,
     "metadata": {},
     "output_type": "execute_result"
    }
   ],
   "source": [
    "'+' in precedences"
   ]
  },
  {
   "cell_type": "code",
   "execution_count": null,
   "metadata": {
    "collapsed": true
   },
   "outputs": [],
   "source": []
  }
 ],
 "metadata": {
  "kernelspec": {
   "display_name": "Python 3",
   "language": "python",
   "name": "python3"
  },
  "language_info": {
   "codemirror_mode": {
    "name": "ipython",
    "version": 3
   },
   "file_extension": ".py",
   "mimetype": "text/x-python",
   "name": "python",
   "nbconvert_exporter": "python",
   "pygments_lexer": "ipython3",
   "version": "3.6.3"
  }
 },
 "nbformat": 4,
 "nbformat_minor": 2
}
